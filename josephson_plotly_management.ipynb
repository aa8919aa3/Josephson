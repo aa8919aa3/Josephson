{
 "cells": [
  {
   "cell_type": "markdown",
   "id": "ed07d1fa",
   "metadata": {},
   "source": [
    "# Plotly 視覺化管理與 Notebook 容器處理\n",
    "\n",
    "這個 Notebook 演示如何在 Jupyter 環境中正確管理 Plotly 視覺化，包括處理 DOM 變化、清理資源和確保視覺化在 Notebook 容器變化時的穩定性。\n",
    "\n",
    "## 功能特色\n",
    "- 使用 MutationObserver 監控 DOM 變化\n",
    "- 自動清理已移除的 Plotly 視覺化\n",
    "- 處理 Notebook 容器和輸出單元格的變化\n",
    "- 確保視覺化資源的正確管理"
   ]
  },
  {
   "cell_type": "code",
   "execution_count": 1,
   "id": "19a6df7c",
   "metadata": {},
   "outputs": [],
   "source": [
    "# 導入必要的庫\n",
    "import plotly.graph_objects as go\n",
    "import plotly.express as px\n",
    "from plotly.subplots import make_subplots\n",
    "import numpy as np\n",
    "import pandas as pd\n",
    "from IPython.display import HTML, display\n",
    "import json"
   ]
  },
  {
   "cell_type": "markdown",
   "id": "60508bc3",
   "metadata": {},
   "source": [
    "## 1. 設置 Plotly 觀察器\n",
    "\n",
    "建立 MutationObserver 來監控與 Plotly 視覺化相關的 DOM 變化。這確保當視覺化元素被移除時，我們可以適當地清理資源。"
   ]
  },
  {
   "cell_type": "code",
   "execution_count": 2,
   "id": "2fe3b7ef",
   "metadata": {},
   "outputs": [
    {
     "data": {
      "text/html": [
       "\n",
       "    <script>\n",
       "    function setupPlotlyObserver(gd) {\n",
       "        // 建立 MutationObserver 來監控顯示狀態變化\n",
       "        var observer = new MutationObserver(function(mutations) {\n",
       "            mutations.forEach(function(mutation) {\n",
       "                var target = mutation.target;\n",
       "                var display = window.getComputedStyle(target).display;\n",
       "\n",
       "                // 檢查元素是否被隱藏或移除\n",
       "                if (!display || display === 'none') {\n",
       "                    console.log('Plotly 元素已被移除，開始清理:', gd);\n",
       "\n",
       "                    // 清理 Plotly 實例\n",
       "                    if (typeof Plotly !== 'undefined' && Plotly.purge) {\n",
       "                        Plotly.purge(gd);\n",
       "                    }\n",
       "\n",
       "                    // 停止觀察\n",
       "                    observer.disconnect();\n",
       "                }\n",
       "            });\n",
       "        });\n",
       "\n",
       "        // 觀察元素及其父元素的屬性變化\n",
       "        observer.observe(gd, {\n",
       "            attributes: true,\n",
       "            attributeFilter: ['style', 'class'],\n",
       "            subtree: true\n",
       "        });\n",
       "\n",
       "        // 觀察父容器的子元素變化\n",
       "        if (gd.parentNode) {\n",
       "            observer.observe(gd.parentNode, {\n",
       "                childList: true,\n",
       "                subtree: true\n",
       "            });\n",
       "        }\n",
       "\n",
       "        return observer;\n",
       "    }\n",
       "\n",
       "    // 全域函數，用於設置新的 Plotly 圖表\n",
       "    window.setupPlotlyChart = function(gd) {\n",
       "        return setupPlotlyObserver(gd);\n",
       "    };\n",
       "    </script>\n",
       "    "
      ],
      "text/plain": [
       "<IPython.core.display.HTML object>"
      ]
     },
     "metadata": {},
     "output_type": "display_data"
    },
    {
     "name": "stdout",
     "output_type": "stream",
     "text": [
      "✅ Plotly 觀察器設置完成\n"
     ]
    }
   ],
   "source": [
    "def create_plotly_observer_script():\n",
    "    \"\"\"\n",
    "    建立 JavaScript 程式碼來設置 MutationObserver，\n",
    "    用於監控 Plotly 視覺化的 DOM 變化\n",
    "    \"\"\"\n",
    "    script = \"\"\"\n",
    "    <script>\n",
    "    function setupPlotlyObserver(gd) {\n",
    "        // 建立 MutationObserver 來監控顯示狀態變化\n",
    "        var observer = new MutationObserver(function(mutations) {\n",
    "            mutations.forEach(function(mutation) {\n",
    "                var target = mutation.target;\n",
    "                var display = window.getComputedStyle(target).display;\n",
    "                \n",
    "                // 檢查元素是否被隱藏或移除\n",
    "                if (!display || display === 'none') {\n",
    "                    console.log('Plotly 元素已被移除，開始清理:', gd);\n",
    "                    \n",
    "                    // 清理 Plotly 實例\n",
    "                    if (typeof Plotly !== 'undefined' && Plotly.purge) {\n",
    "                        Plotly.purge(gd);\n",
    "                    }\n",
    "                    \n",
    "                    // 停止觀察\n",
    "                    observer.disconnect();\n",
    "                }\n",
    "            });\n",
    "        });\n",
    "        \n",
    "        // 觀察元素及其父元素的屬性變化\n",
    "        observer.observe(gd, {\n",
    "            attributes: true,\n",
    "            attributeFilter: ['style', 'class'],\n",
    "            subtree: true\n",
    "        });\n",
    "        \n",
    "        // 觀察父容器的子元素變化\n",
    "        if (gd.parentNode) {\n",
    "            observer.observe(gd.parentNode, {\n",
    "                childList: true,\n",
    "                subtree: true\n",
    "            });\n",
    "        }\n",
    "        \n",
    "        return observer;\n",
    "    }\n",
    "    \n",
    "    // 全域函數，用於設置新的 Plotly 圖表\n",
    "    window.setupPlotlyChart = function(gd) {\n",
    "        return setupPlotlyObserver(gd);\n",
    "    };\n",
    "    </script>\n",
    "    \"\"\"\n",
    "    return script\n",
    "\n",
    "# 執行基礎設置\n",
    "display(HTML(create_plotly_observer_script()))\n",
    "print(\"✅ Plotly 觀察器設置完成\")"
   ]
  },
  {
   "cell_type": "markdown",
   "id": "74a84940",
   "metadata": {},
   "source": [
    "## 2. 處理 Notebook 容器變化\n",
    "\n",
    "使用 MutationObserver 檢測 Notebook 容器的變化，並處理 Notebook 單元格的移除事件。這確保當整個 Notebook 結構發生變化時，Plotly 視覺化能正確響應。"
   ]
  },
  {
   "cell_type": "code",
   "execution_count": 3,
   "id": "e50d9adc",
   "metadata": {},
   "outputs": [
    {
     "data": {
      "text/html": [
       "\n",
       "    <script>\n",
       "    function setupNotebookObserver() {\n",
       "        // 尋找 Notebook 容器\n",
       "        var notebookContainer = document.querySelector('#notebook-container') || \n",
       "                               document.querySelector('.notebook-container') ||\n",
       "                               document.querySelector('[data-jp-notebook]');\n",
       "\n",
       "        if (notebookContainer) {\n",
       "            console.log('找到 Notebook 容器，設置觀察器');\n",
       "\n",
       "            var notebookObserver = new MutationObserver(function(mutations) {\n",
       "                mutations.forEach(function(mutation) {\n",
       "                    // 檢查移除的節點\n",
       "                    if (mutation.removedNodes.length > 0) {\n",
       "                        mutation.removedNodes.forEach(function(node) {\n",
       "                            if (node.nodeType === Node.ELEMENT_NODE) {\n",
       "                                // 尋找被移除節點中的 Plotly 圖表\n",
       "                                var plotlyElements = node.querySelectorAll ? \n",
       "                                    node.querySelectorAll('.plotly-graph-div') : [];\n",
       "\n",
       "                                // 清理找到的 Plotly 元素\n",
       "                                for (var i = 0; i < plotlyElements.length; i++) {\n",
       "                                    console.log('清理被移除的 Plotly 圖表:', plotlyElements[i]);\n",
       "                                    if (typeof Plotly !== 'undefined' && Plotly.purge) {\n",
       "                                        Plotly.purge(plotlyElements[i]);\n",
       "                                    }\n",
       "                                }\n",
       "                            }\n",
       "                        });\n",
       "                    }\n",
       "                });\n",
       "            });\n",
       "\n",
       "            // 觀察 Notebook 容器的子元素變化\n",
       "            notebookObserver.observe(notebookContainer, {\n",
       "                childList: true,\n",
       "                subtree: true\n",
       "            });\n",
       "\n",
       "            console.log('Notebook 容器觀察器設置完成');\n",
       "            return notebookObserver;\n",
       "        } else {\n",
       "            console.warn('未找到 Notebook 容器');\n",
       "            return null;\n",
       "        }\n",
       "    }\n",
       "\n",
       "    // 設置 Notebook 觀察器\n",
       "    window.notebookObserver = setupNotebookObserver();\n",
       "    </script>\n",
       "    "
      ],
      "text/plain": [
       "<IPython.core.display.HTML object>"
      ]
     },
     "metadata": {},
     "output_type": "display_data"
    },
    {
     "name": "stdout",
     "output_type": "stream",
     "text": [
      "✅ Notebook 容器觀察器設置完成\n"
     ]
    }
   ],
   "source": [
    "def create_notebook_container_observer():\n",
    "    \"\"\"\n",
    "    建立監控 Notebook 容器變化的觀察器\n",
    "    \"\"\"\n",
    "    script = \"\"\"\n",
    "    <script>\n",
    "    function setupNotebookObserver() {\n",
    "        // 尋找 Notebook 容器\n",
    "        var notebookContainer = document.querySelector('#notebook-container') || \n",
    "                               document.querySelector('.notebook-container') ||\n",
    "                               document.querySelector('[data-jp-notebook]');\n",
    "        \n",
    "        if (notebookContainer) {\n",
    "            console.log('找到 Notebook 容器，設置觀察器');\n",
    "            \n",
    "            var notebookObserver = new MutationObserver(function(mutations) {\n",
    "                mutations.forEach(function(mutation) {\n",
    "                    // 檢查移除的節點\n",
    "                    if (mutation.removedNodes.length > 0) {\n",
    "                        mutation.removedNodes.forEach(function(node) {\n",
    "                            if (node.nodeType === Node.ELEMENT_NODE) {\n",
    "                                // 尋找被移除節點中的 Plotly 圖表\n",
    "                                var plotlyElements = node.querySelectorAll ? \n",
    "                                    node.querySelectorAll('.plotly-graph-div') : [];\n",
    "                                \n",
    "                                // 清理找到的 Plotly 元素\n",
    "                                for (var i = 0; i < plotlyElements.length; i++) {\n",
    "                                    console.log('清理被移除的 Plotly 圖表:', plotlyElements[i]);\n",
    "                                    if (typeof Plotly !== 'undefined' && Plotly.purge) {\n",
    "                                        Plotly.purge(plotlyElements[i]);\n",
    "                                    }\n",
    "                                }\n",
    "                            }\n",
    "                        });\n",
    "                    }\n",
    "                });\n",
    "            });\n",
    "            \n",
    "            // 觀察 Notebook 容器的子元素變化\n",
    "            notebookObserver.observe(notebookContainer, {\n",
    "                childList: true,\n",
    "                subtree: true\n",
    "            });\n",
    "            \n",
    "            console.log('Notebook 容器觀察器設置完成');\n",
    "            return notebookObserver;\n",
    "        } else {\n",
    "            console.warn('未找到 Notebook 容器');\n",
    "            return null;\n",
    "        }\n",
    "    }\n",
    "    \n",
    "    // 設置 Notebook 觀察器\n",
    "    window.notebookObserver = setupNotebookObserver();\n",
    "    </script>\n",
    "    \"\"\"\n",
    "    return script\n",
    "\n",
    "# 執行 Notebook 容器觀察器設置\n",
    "display(HTML(create_notebook_container_observer()))\n",
    "print(\"✅ Notebook 容器觀察器設置完成\")"
   ]
  },
  {
   "cell_type": "markdown",
   "id": "2cafd3ee",
   "metadata": {},
   "source": [
    "## 3. 處理輸出單元格清理\n",
    "\n",
    "使用 MutationObserver 檢測當前輸出單元格的清理操作，並相應地管理 Plotly 視覺化。這確保當單元格輸出被清理時，相關的視覺化資源也得到正確處理。"
   ]
  },
  {
   "cell_type": "code",
   "execution_count": 4,
   "id": "948b9682",
   "metadata": {},
   "outputs": [
    {
     "data": {
      "text/html": [
       "\n",
       "    <script>\n",
       "    function setupOutputCellObserver() {\n",
       "        // 尋找當前輸出區域\n",
       "        var outputElements = document.querySelectorAll('.output, .jp-OutputArea, [data-mime-type]');\n",
       "        var observers = [];\n",
       "\n",
       "        outputElements.forEach(function(outputEl) {\n",
       "            var outputObserver = new MutationObserver(function(mutations) {\n",
       "                mutations.forEach(function(mutation) {\n",
       "                    // 檢查是否有子節點被移除\n",
       "                    if (mutation.removedNodes.length > 0) {\n",
       "                        mutation.removedNodes.forEach(function(node) {\n",
       "                            if (node.nodeType === Node.ELEMENT_NODE) {\n",
       "                                // 檢查移除的節點是否包含 Plotly 圖表\n",
       "                                var plotlyDivs = [];\n",
       "\n",
       "                                if (node.classList && node.classList.contains('plotly-graph-div')) {\n",
       "                                    plotlyDivs.push(node);\n",
       "                                } else if (node.querySelectorAll) {\n",
       "                                    var foundDivs = node.querySelectorAll('.plotly-graph-div');\n",
       "                                    plotlyDivs = plotlyDivs.concat(Array.from(foundDivs));\n",
       "                                }\n",
       "\n",
       "                                // 清理找到的 Plotly 圖表\n",
       "                                plotlyDivs.forEach(function(div) {\n",
       "                                    console.log('輸出清理：清理 Plotly 圖表', div);\n",
       "                                    if (typeof Plotly !== 'undefined' && Plotly.purge) {\n",
       "                                        try {\n",
       "                                            Plotly.purge(div);\n",
       "                                        } catch (e) {\n",
       "                                            console.warn('清理 Plotly 圖表時出錯:', e);\n",
       "                                        }\n",
       "                                    }\n",
       "                                });\n",
       "                            }\n",
       "                        });\n",
       "                    }\n",
       "\n",
       "                    // 檢查整個輸出區域是否被清空\n",
       "                    if (mutation.type === 'childList' && \n",
       "                        outputEl.children.length === 0) {\n",
       "                        console.log('輸出區域已清空');\n",
       "                    }\n",
       "                });\n",
       "            });\n",
       "\n",
       "            // 觀察輸出元素的子節點變化\n",
       "            outputObserver.observe(outputEl, {\n",
       "                childList: true,\n",
       "                subtree: true\n",
       "            });\n",
       "\n",
       "            observers.push(outputObserver);\n",
       "        });\n",
       "\n",
       "        console.log('設置了', observers.length, '個輸出單元格觀察器');\n",
       "        return observers;\n",
       "    }\n",
       "\n",
       "    // 設置輸出單元格觀察器\n",
       "    window.outputObservers = setupOutputCellObserver();\n",
       "    </script>\n",
       "    "
      ],
      "text/plain": [
       "<IPython.core.display.HTML object>"
      ]
     },
     "metadata": {},
     "output_type": "display_data"
    },
    {
     "name": "stdout",
     "output_type": "stream",
     "text": [
      "✅ 輸出單元格觀察器設置完成\n"
     ]
    }
   ],
   "source": [
    "def create_output_cell_observer():\n",
    "    \"\"\"\n",
    "    建立監控輸出單元格清理的觀察器\n",
    "    \"\"\"\n",
    "    script = \"\"\"\n",
    "    <script>\n",
    "    function setupOutputCellObserver() {\n",
    "        // 尋找當前輸出區域\n",
    "        var outputElements = document.querySelectorAll('.output, .jp-OutputArea, [data-mime-type]');\n",
    "        var observers = [];\n",
    "        \n",
    "        outputElements.forEach(function(outputEl) {\n",
    "            var outputObserver = new MutationObserver(function(mutations) {\n",
    "                mutations.forEach(function(mutation) {\n",
    "                    // 檢查是否有子節點被移除\n",
    "                    if (mutation.removedNodes.length > 0) {\n",
    "                        mutation.removedNodes.forEach(function(node) {\n",
    "                            if (node.nodeType === Node.ELEMENT_NODE) {\n",
    "                                // 檢查移除的節點是否包含 Plotly 圖表\n",
    "                                var plotlyDivs = [];\n",
    "                                \n",
    "                                if (node.classList && node.classList.contains('plotly-graph-div')) {\n",
    "                                    plotlyDivs.push(node);\n",
    "                                } else if (node.querySelectorAll) {\n",
    "                                    var foundDivs = node.querySelectorAll('.plotly-graph-div');\n",
    "                                    plotlyDivs = plotlyDivs.concat(Array.from(foundDivs));\n",
    "                                }\n",
    "                                \n",
    "                                // 清理找到的 Plotly 圖表\n",
    "                                plotlyDivs.forEach(function(div) {\n",
    "                                    console.log('輸出清理：清理 Plotly 圖表', div);\n",
    "                                    if (typeof Plotly !== 'undefined' && Plotly.purge) {\n",
    "                                        try {\n",
    "                                            Plotly.purge(div);\n",
    "                                        } catch (e) {\n",
    "                                            console.warn('清理 Plotly 圖表時出錯:', e);\n",
    "                                        }\n",
    "                                    }\n",
    "                                });\n",
    "                            }\n",
    "                        });\n",
    "                    }\n",
    "                    \n",
    "                    // 檢查整個輸出區域是否被清空\n",
    "                    if (mutation.type === 'childList' && \n",
    "                        outputEl.children.length === 0) {\n",
    "                        console.log('輸出區域已清空');\n",
    "                    }\n",
    "                });\n",
    "            });\n",
    "            \n",
    "            // 觀察輸出元素的子節點變化\n",
    "            outputObserver.observe(outputEl, {\n",
    "                childList: true,\n",
    "                subtree: true\n",
    "            });\n",
    "            \n",
    "            observers.push(outputObserver);\n",
    "        });\n",
    "        \n",
    "        console.log('設置了', observers.length, '個輸出單元格觀察器');\n",
    "        return observers;\n",
    "    }\n",
    "    \n",
    "    // 設置輸出單元格觀察器\n",
    "    window.outputObservers = setupOutputCellObserver();\n",
    "    </script>\n",
    "    \"\"\"\n",
    "    return script\n",
    "\n",
    "# 執行輸出單元格觀察器設置\n",
    "display(HTML(create_output_cell_observer()))\n",
    "print(\"✅ 輸出單元格觀察器設置完成\")"
   ]
  },
  {
   "cell_type": "markdown",
   "id": "593704f0",
   "metadata": {},
   "source": [
    "## 4. 生成視覺化\n",
    "\n",
    "建立和顯示 Plotly 圖表，確保在視覺化被移除時進行適當的清理。這個部分演示如何創建具有自動清理功能的 Plotly 視覺化。"
   ]
  },
  {
   "cell_type": "code",
   "execution_count": 5,
   "id": "9b43cb03",
   "metadata": {},
   "outputs": [
    {
     "name": "stdout",
     "output_type": "stream",
     "text": [
      "🎨 建立基本散點圖\n"
     ]
    },
    {
     "data": {
      "application/vnd.plotly.v1+json": {
       "config": {
        "displayModeBar": true,
        "displaylogo": false,
        "modeBarButtonsToRemove": [
         "pan2d",
         "lasso2d"
        ],
        "plotlyServerURL": "https://plot.ly"
       },
       "data": [
        {
         "mode": "lines+markers",
         "name": "Sin(x) + noise",
         "type": "scatter",
         "x": {
          "bdata": "AAAAAAAAAAAxb2dIzNu5PzFvZ0jM28k/ZZNNNtlk0z8xb2dIzNvZP3+lQK1fKeA/ZZNNNtlk4z9LgVq/UqDmPzFvZ0jM2+k/F1100UUX7T9/pUCtXynwP3Icx3Ecx/E/ZZNNNtlk8z9YCtT6lQL1P0uBWr9SoPY/Pvjggw8++D8xb2dIzNv5PyTm7QyJefs/F1100UUX/T8K1PqVArX+P3+lQK1fKQBA+OCDDz74AEByHMdxHMcBQOtXCtT6lQJAZZNNNtlkA0DezpCYtzMEQFgK1PqVAgVA0UUXXXTRBUBLgVq/UqAGQMS8nSExbwdAPvjggw8+CEC3MyTm7QwJQDFvZ0jM2wlAq6qqqqqqCkAk5u0MiXkLQJ4hMW9nSAxAF1100UUXDUCRmLczJOYNQArU+pUCtQ5AhA8++OCDD0B/pUCtXykQQDtDYt7OkBBA+OCDDz74EEC1fqVArV8RQHIcx3EcxxFALrrooosuEkDrVwrU+pUSQKj1KwVq/RJAZZNNNtlkE0AiMW9nSMwTQN7OkJi3MxRAm2yyySabFEBYCtT6lQIVQBWo9SsFahVA0UUXXXTRFUCO4ziO4zgWQEuBWr9SoBZACB988MEHF0DEvJ0hMW8XQIFav1Kg1hdAPvjggw8+GED7lQK1fqUYQLczJObtDBlAdNFFF110GUAxb2dIzNsZQO4MiXk7QxpAq6qqqqqqGkBnSMzbGRIbQCTm7QyJeRtA4YMPPvjgG0CeITFvZ0gcQFq/UqDWrxxAF1100UUXHUDU+pUCtX4dQJGYtzMk5h1ATTbZZJNNHkAK1PqVArUeQMdxHMdxHB9AhA8++OCDH0BArV8pUOsfQH+lQK1fKSBAXXTRRRddIEA7Q2LezpAgQBoS83aGxCBA+OCDDz74IEDXrxSo9SshQLV+pUCtXyFAk0022WSTIUByHMdxHMchQFDrVwrU+iFALrrooosuIkANiXk7Q2IiQOtXCtT6lSJAyiabbLLJIkCo9SsFav0iQIbEvJ0hMSNAZZNNNtlkI0BDYt7OkJgjQCIxb2dIzCNAAAAAAAAAJEA=",
          "dtype": "f8"
         },
         "y": {
          "bdata": "/VmHIIhuqT/n8QP0aka2P/AiapCa/NA/lAdMPIvY3D8Fm9drg6nXP7qOoLbQd90/9tDuPCJI5z+29kCeSD7nP0qxjHfqoeU/SGqypIH76j9lFfQEDp7pP7gtiqgUMOs/tOW6IOa87j/xGekTNNLoP/VyiD2iFuo/yA3I17Em7j+UF0xP3LnsPwsXU//pVPA/+HdRv78e7D+inZgE4Y7pP9g8vIaewfA/u5ng2iSN6j87aCMGw6npP0GkD544zeI/NhVM8GFL4z/Hcb1JRtriP1vtl8SbLNg/IoRDmzUr3D8M/LpgOMPPP674svWsPMc/hEQCIywOqj+rF4HsYAbJP49rNXxrire/Tx1EFjj30r+IH8cGG2nKvxYC75gXL+C/VKKJF2oN3b93pMzbWDrov18g6FtZyei/1BDeyr9G5r+tMqRHAa7mv3GezrknYOq/vHo+6Zjm7L/sYfvfYc/uv1T8eg1yy/G/j0IGpejt8L8a2HG8x7Pwv5/6g7n2mOy/QnqwKsKa7r9KQKHqil/yv23Z9o6wJu2/1y/9Mjsy7r/IzGlcT5ztvxYO6BISsOe/fqpSggNJ5L8lRTtgm03iv6xTd4lbc+W/e+m5WpAL4b/CCBkJvj7Yv7o1kxGhNsy/nQxg98cx0b+rL//cI+bBv1k6dajeysC/ZMY89GgZpL+0dvs0A8DQP36wHeTFhNo/dQ/WxBx81z/gffZGlh3iP/7Cw2dL1+I/ZLiylvU34j+t+I9Q9tTnP49cso8nwu0/piPlDFGh6j/Oi8wQjLHwP2sNFLDZV+U/sg4hbyOz8D9Vu93gAsfvPzyeK3NH8+4/e4X5NVMk8D86Qe7FB2PpP8kuQ+U0eu4/uD8+GEBw7z9LZbacb+rwP0oskUgk9Ok/yUM9dNtA5z+mfb8wKjPmP5EIaAYBdeg/FRnOwCMV5D9iXM3nzUndP6bVQu2GP94/A1NMqxmY1T+CiRQQzffUPz5nzNmwXa8/cKJyTKSpX78mZVVgtfy7v99EcQ/JRNS/bmt85x+fzr/HaeRo36nVv4sGp7MrMd2/rzfGcsso4r8=",
          "dtype": "f8"
         }
        },
        {
         "mode": "lines+markers",
         "name": "Cos(x) + noise",
         "type": "scatter",
         "x": {
          "bdata": "AAAAAAAAAAAxb2dIzNu5PzFvZ0jM28k/ZZNNNtlk0z8xb2dIzNvZP3+lQK1fKeA/ZZNNNtlk4z9LgVq/UqDmPzFvZ0jM2+k/F1100UUX7T9/pUCtXynwP3Icx3Ecx/E/ZZNNNtlk8z9YCtT6lQL1P0uBWr9SoPY/Pvjggw8++D8xb2dIzNv5PyTm7QyJefs/F1100UUX/T8K1PqVArX+P3+lQK1fKQBA+OCDDz74AEByHMdxHMcBQOtXCtT6lQJAZZNNNtlkA0DezpCYtzMEQFgK1PqVAgVA0UUXXXTRBUBLgVq/UqAGQMS8nSExbwdAPvjggw8+CEC3MyTm7QwJQDFvZ0jM2wlAq6qqqqqqCkAk5u0MiXkLQJ4hMW9nSAxAF1100UUXDUCRmLczJOYNQArU+pUCtQ5AhA8++OCDD0B/pUCtXykQQDtDYt7OkBBA+OCDDz74EEC1fqVArV8RQHIcx3EcxxFALrrooosuEkDrVwrU+pUSQKj1KwVq/RJAZZNNNtlkE0AiMW9nSMwTQN7OkJi3MxRAm2yyySabFEBYCtT6lQIVQBWo9SsFahVA0UUXXXTRFUCO4ziO4zgWQEuBWr9SoBZACB988MEHF0DEvJ0hMW8XQIFav1Kg1hdAPvjggw8+GED7lQK1fqUYQLczJObtDBlAdNFFF110GUAxb2dIzNsZQO4MiXk7QxpAq6qqqqqqGkBnSMzbGRIbQCTm7QyJeRtA4YMPPvjgG0CeITFvZ0gcQFq/UqDWrxxAF1100UUXHUDU+pUCtX4dQJGYtzMk5h1ATTbZZJNNHkAK1PqVArUeQMdxHMdxHB9AhA8++OCDH0BArV8pUOsfQH+lQK1fKSBAXXTRRRddIEA7Q2LezpAgQBoS83aGxCBA+OCDDz74IEDXrxSo9SshQLV+pUCtXyFAk0022WSTIUByHMdxHMchQFDrVwrU+iFALrrooosuIkANiXk7Q2IiQOtXCtT6lSJAyiabbLLJIkCo9SsFav0iQIbEvJ0hMSNAZZNNNtlkI0BDYt7OkJgjQCIxb2dIzCNAAAAAAAAAJEA=",
          "dtype": "f8"
         },
         "y": {
          "bdata": "MsXjPYd46z8ZVUu2pn3uP8BKF0CmQO4/PDvA3IT56z+PS4NoQejsP5/ojUI6TO0/SrO+3RMr8D9z9Ho+IePoP4dC97i77uY/DMoaWLJs4z8rnV/J48DVP5vVsHGVOdw/9K0pjwXa1j+povWZZgngPx5WpUT4gcE/WO+x0BP1tT8m4sTSDf+ov4Kn8vZr0NC/st7eOhi3wL9KR7TVXgnRv+/D/fatvda/EkqHO7ql4782K+iwn9PdvzfrAET3Wuq/1n6qrVQ85r+Jt/osPxrjv/g6w6eNA++/dJcx28ka77+uXB5vkR/uvyzZFZhDcvC/K5TwCdBh8r+fHGCAZsfvv+RWgJ5FovG/KkguEujl7b/ZiPeLU8rwvweuWsVhl+i/G3K/XDyr7r/2LdfNb4Trv5J+GVAO8OW/K0UDDKdI6r84Qk52hDHjv5GSbrcmOdq/ggqBHaOi478ZSBVRO+bVv6vBGnW9j86/ovk2MLiFtr80tI1g4kPIv2ZMFtrV0ri/CsotKiIMyD8mIhnJBu/QP/WH8qUm1dY/V1aZ0kFt3T+fGrjSXY/cP5TIP0EE4uM/pZr0ZOKQ5j8YNuQZNJzlP7yappkU5O8/hSX6wGQy7T9gb/ZzqljpP2pH18RXOPA/8h4RgHQX7D+hhMTbKCTxP3WH3vSx2fE/xYwqVDNF7T+ngVPLWEfxP+pX5q+/BvA/CZCjxTYn8D9GObWPhjHxPzc7n0x64uk/MHIb+rxW5j+BifhAnbvjPxcWhPorkeE/VWG5k9dS4T+unh9sSMDfPzBl6UHWdtk/uUHF1Bjf1j+3GoN1NLvGPwZCAIiSWcw/9Ag+EPs/qr9uo4aXkcHCP33n2gfkxsS/n5WZLfEX2r9/GSe6sLvgv78mrX0mQt2/fNYPHRKX4793MGP2iBnjv1maicRkKea//8Mkd5H16b/YletETDnuv0VoGuE67/C/bg+6kG+p77+ANyd0V2Xsvz/w3SiDCe+/LY91nE788b9pnRM2+F3vv6nGI3edTO6/wAt8xTrT8L/GmKJ+K07tv7RbmQNaSOy/s8Kqx/6B7r8=",
          "dtype": "f8"
         }
        }
       ],
       "layout": {
        "height": 400,
        "showlegend": true,
        "template": {
         "data": {
          "bar": [
           {
            "error_x": {
             "color": "#2a3f5f"
            },
            "error_y": {
             "color": "#2a3f5f"
            },
            "marker": {
             "line": {
              "color": "#E5ECF6",
              "width": 0.5
             },
             "pattern": {
              "fillmode": "overlay",
              "size": 10,
              "solidity": 0.2
             }
            },
            "type": "bar"
           }
          ],
          "barpolar": [
           {
            "marker": {
             "line": {
              "color": "#E5ECF6",
              "width": 0.5
             },
             "pattern": {
              "fillmode": "overlay",
              "size": 10,
              "solidity": 0.2
             }
            },
            "type": "barpolar"
           }
          ],
          "carpet": [
           {
            "aaxis": {
             "endlinecolor": "#2a3f5f",
             "gridcolor": "white",
             "linecolor": "white",
             "minorgridcolor": "white",
             "startlinecolor": "#2a3f5f"
            },
            "baxis": {
             "endlinecolor": "#2a3f5f",
             "gridcolor": "white",
             "linecolor": "white",
             "minorgridcolor": "white",
             "startlinecolor": "#2a3f5f"
            },
            "type": "carpet"
           }
          ],
          "choropleth": [
           {
            "colorbar": {
             "outlinewidth": 0,
             "ticks": ""
            },
            "type": "choropleth"
           }
          ],
          "contour": [
           {
            "colorbar": {
             "outlinewidth": 0,
             "ticks": ""
            },
            "colorscale": [
             [
              0,
              "#0d0887"
             ],
             [
              0.1111111111111111,
              "#46039f"
             ],
             [
              0.2222222222222222,
              "#7201a8"
             ],
             [
              0.3333333333333333,
              "#9c179e"
             ],
             [
              0.4444444444444444,
              "#bd3786"
             ],
             [
              0.5555555555555556,
              "#d8576b"
             ],
             [
              0.6666666666666666,
              "#ed7953"
             ],
             [
              0.7777777777777778,
              "#fb9f3a"
             ],
             [
              0.8888888888888888,
              "#fdca26"
             ],
             [
              1,
              "#f0f921"
             ]
            ],
            "type": "contour"
           }
          ],
          "contourcarpet": [
           {
            "colorbar": {
             "outlinewidth": 0,
             "ticks": ""
            },
            "type": "contourcarpet"
           }
          ],
          "heatmap": [
           {
            "colorbar": {
             "outlinewidth": 0,
             "ticks": ""
            },
            "colorscale": [
             [
              0,
              "#0d0887"
             ],
             [
              0.1111111111111111,
              "#46039f"
             ],
             [
              0.2222222222222222,
              "#7201a8"
             ],
             [
              0.3333333333333333,
              "#9c179e"
             ],
             [
              0.4444444444444444,
              "#bd3786"
             ],
             [
              0.5555555555555556,
              "#d8576b"
             ],
             [
              0.6666666666666666,
              "#ed7953"
             ],
             [
              0.7777777777777778,
              "#fb9f3a"
             ],
             [
              0.8888888888888888,
              "#fdca26"
             ],
             [
              1,
              "#f0f921"
             ]
            ],
            "type": "heatmap"
           }
          ],
          "histogram": [
           {
            "marker": {
             "pattern": {
              "fillmode": "overlay",
              "size": 10,
              "solidity": 0.2
             }
            },
            "type": "histogram"
           }
          ],
          "histogram2d": [
           {
            "colorbar": {
             "outlinewidth": 0,
             "ticks": ""
            },
            "colorscale": [
             [
              0,
              "#0d0887"
             ],
             [
              0.1111111111111111,
              "#46039f"
             ],
             [
              0.2222222222222222,
              "#7201a8"
             ],
             [
              0.3333333333333333,
              "#9c179e"
             ],
             [
              0.4444444444444444,
              "#bd3786"
             ],
             [
              0.5555555555555556,
              "#d8576b"
             ],
             [
              0.6666666666666666,
              "#ed7953"
             ],
             [
              0.7777777777777778,
              "#fb9f3a"
             ],
             [
              0.8888888888888888,
              "#fdca26"
             ],
             [
              1,
              "#f0f921"
             ]
            ],
            "type": "histogram2d"
           }
          ],
          "histogram2dcontour": [
           {
            "colorbar": {
             "outlinewidth": 0,
             "ticks": ""
            },
            "colorscale": [
             [
              0,
              "#0d0887"
             ],
             [
              0.1111111111111111,
              "#46039f"
             ],
             [
              0.2222222222222222,
              "#7201a8"
             ],
             [
              0.3333333333333333,
              "#9c179e"
             ],
             [
              0.4444444444444444,
              "#bd3786"
             ],
             [
              0.5555555555555556,
              "#d8576b"
             ],
             [
              0.6666666666666666,
              "#ed7953"
             ],
             [
              0.7777777777777778,
              "#fb9f3a"
             ],
             [
              0.8888888888888888,
              "#fdca26"
             ],
             [
              1,
              "#f0f921"
             ]
            ],
            "type": "histogram2dcontour"
           }
          ],
          "mesh3d": [
           {
            "colorbar": {
             "outlinewidth": 0,
             "ticks": ""
            },
            "type": "mesh3d"
           }
          ],
          "parcoords": [
           {
            "line": {
             "colorbar": {
              "outlinewidth": 0,
              "ticks": ""
             }
            },
            "type": "parcoords"
           }
          ],
          "pie": [
           {
            "automargin": true,
            "type": "pie"
           }
          ],
          "scatter": [
           {
            "fillpattern": {
             "fillmode": "overlay",
             "size": 10,
             "solidity": 0.2
            },
            "type": "scatter"
           }
          ],
          "scatter3d": [
           {
            "line": {
             "colorbar": {
              "outlinewidth": 0,
              "ticks": ""
             }
            },
            "marker": {
             "colorbar": {
              "outlinewidth": 0,
              "ticks": ""
             }
            },
            "type": "scatter3d"
           }
          ],
          "scattercarpet": [
           {
            "marker": {
             "colorbar": {
              "outlinewidth": 0,
              "ticks": ""
             }
            },
            "type": "scattercarpet"
           }
          ],
          "scattergeo": [
           {
            "marker": {
             "colorbar": {
              "outlinewidth": 0,
              "ticks": ""
             }
            },
            "type": "scattergeo"
           }
          ],
          "scattergl": [
           {
            "marker": {
             "colorbar": {
              "outlinewidth": 0,
              "ticks": ""
             }
            },
            "type": "scattergl"
           }
          ],
          "scattermap": [
           {
            "marker": {
             "colorbar": {
              "outlinewidth": 0,
              "ticks": ""
             }
            },
            "type": "scattermap"
           }
          ],
          "scattermapbox": [
           {
            "marker": {
             "colorbar": {
              "outlinewidth": 0,
              "ticks": ""
             }
            },
            "type": "scattermapbox"
           }
          ],
          "scatterpolar": [
           {
            "marker": {
             "colorbar": {
              "outlinewidth": 0,
              "ticks": ""
             }
            },
            "type": "scatterpolar"
           }
          ],
          "scatterpolargl": [
           {
            "marker": {
             "colorbar": {
              "outlinewidth": 0,
              "ticks": ""
             }
            },
            "type": "scatterpolargl"
           }
          ],
          "scatterternary": [
           {
            "marker": {
             "colorbar": {
              "outlinewidth": 0,
              "ticks": ""
             }
            },
            "type": "scatterternary"
           }
          ],
          "surface": [
           {
            "colorbar": {
             "outlinewidth": 0,
             "ticks": ""
            },
            "colorscale": [
             [
              0,
              "#0d0887"
             ],
             [
              0.1111111111111111,
              "#46039f"
             ],
             [
              0.2222222222222222,
              "#7201a8"
             ],
             [
              0.3333333333333333,
              "#9c179e"
             ],
             [
              0.4444444444444444,
              "#bd3786"
             ],
             [
              0.5555555555555556,
              "#d8576b"
             ],
             [
              0.6666666666666666,
              "#ed7953"
             ],
             [
              0.7777777777777778,
              "#fb9f3a"
             ],
             [
              0.8888888888888888,
              "#fdca26"
             ],
             [
              1,
              "#f0f921"
             ]
            ],
            "type": "surface"
           }
          ],
          "table": [
           {
            "cells": {
             "fill": {
              "color": "#EBF0F8"
             },
             "line": {
              "color": "white"
             }
            },
            "header": {
             "fill": {
              "color": "#C8D4E3"
             },
             "line": {
              "color": "white"
             }
            },
            "type": "table"
           }
          ]
         },
         "layout": {
          "annotationdefaults": {
           "arrowcolor": "#2a3f5f",
           "arrowhead": 0,
           "arrowwidth": 1
          },
          "autotypenumbers": "strict",
          "coloraxis": {
           "colorbar": {
            "outlinewidth": 0,
            "ticks": ""
           }
          },
          "colorscale": {
           "diverging": [
            [
             0,
             "#8e0152"
            ],
            [
             0.1,
             "#c51b7d"
            ],
            [
             0.2,
             "#de77ae"
            ],
            [
             0.3,
             "#f1b6da"
            ],
            [
             0.4,
             "#fde0ef"
            ],
            [
             0.5,
             "#f7f7f7"
            ],
            [
             0.6,
             "#e6f5d0"
            ],
            [
             0.7,
             "#b8e186"
            ],
            [
             0.8,
             "#7fbc41"
            ],
            [
             0.9,
             "#4d9221"
            ],
            [
             1,
             "#276419"
            ]
           ],
           "sequential": [
            [
             0,
             "#0d0887"
            ],
            [
             0.1111111111111111,
             "#46039f"
            ],
            [
             0.2222222222222222,
             "#7201a8"
            ],
            [
             0.3333333333333333,
             "#9c179e"
            ],
            [
             0.4444444444444444,
             "#bd3786"
            ],
            [
             0.5555555555555556,
             "#d8576b"
            ],
            [
             0.6666666666666666,
             "#ed7953"
            ],
            [
             0.7777777777777778,
             "#fb9f3a"
            ],
            [
             0.8888888888888888,
             "#fdca26"
            ],
            [
             1,
             "#f0f921"
            ]
           ],
           "sequentialminus": [
            [
             0,
             "#0d0887"
            ],
            [
             0.1111111111111111,
             "#46039f"
            ],
            [
             0.2222222222222222,
             "#7201a8"
            ],
            [
             0.3333333333333333,
             "#9c179e"
            ],
            [
             0.4444444444444444,
             "#bd3786"
            ],
            [
             0.5555555555555556,
             "#d8576b"
            ],
            [
             0.6666666666666666,
             "#ed7953"
            ],
            [
             0.7777777777777778,
             "#fb9f3a"
            ],
            [
             0.8888888888888888,
             "#fdca26"
            ],
            [
             1,
             "#f0f921"
            ]
           ]
          },
          "colorway": [
           "#636efa",
           "#EF553B",
           "#00cc96",
           "#ab63fa",
           "#FFA15A",
           "#19d3f3",
           "#FF6692",
           "#B6E880",
           "#FF97FF",
           "#FECB52"
          ],
          "font": {
           "color": "#2a3f5f"
          },
          "geo": {
           "bgcolor": "white",
           "lakecolor": "white",
           "landcolor": "#E5ECF6",
           "showlakes": true,
           "showland": true,
           "subunitcolor": "white"
          },
          "hoverlabel": {
           "align": "left"
          },
          "hovermode": "closest",
          "mapbox": {
           "style": "light"
          },
          "paper_bgcolor": "white",
          "plot_bgcolor": "#E5ECF6",
          "polar": {
           "angularaxis": {
            "gridcolor": "white",
            "linecolor": "white",
            "ticks": ""
           },
           "bgcolor": "#E5ECF6",
           "radialaxis": {
            "gridcolor": "white",
            "linecolor": "white",
            "ticks": ""
           }
          },
          "scene": {
           "xaxis": {
            "backgroundcolor": "#E5ECF6",
            "gridcolor": "white",
            "gridwidth": 2,
            "linecolor": "white",
            "showbackground": true,
            "ticks": "",
            "zerolinecolor": "white"
           },
           "yaxis": {
            "backgroundcolor": "#E5ECF6",
            "gridcolor": "white",
            "gridwidth": 2,
            "linecolor": "white",
            "showbackground": true,
            "ticks": "",
            "zerolinecolor": "white"
           },
           "zaxis": {
            "backgroundcolor": "#E5ECF6",
            "gridcolor": "white",
            "gridwidth": 2,
            "linecolor": "white",
            "showbackground": true,
            "ticks": "",
            "zerolinecolor": "white"
           }
          },
          "shapedefaults": {
           "line": {
            "color": "#2a3f5f"
           }
          },
          "ternary": {
           "aaxis": {
            "gridcolor": "white",
            "linecolor": "white",
            "ticks": ""
           },
           "baxis": {
            "gridcolor": "white",
            "linecolor": "white",
            "ticks": ""
           },
           "bgcolor": "#E5ECF6",
           "caxis": {
            "gridcolor": "white",
            "linecolor": "white",
            "ticks": ""
           }
          },
          "title": {
           "x": 0.05
          },
          "xaxis": {
           "automargin": true,
           "gridcolor": "white",
           "linecolor": "white",
           "ticks": "",
           "title": {
            "standoff": 15
           },
           "zerolinecolor": "white",
           "zerolinewidth": 2
          },
          "yaxis": {
           "automargin": true,
           "gridcolor": "white",
           "linecolor": "white",
           "ticks": "",
           "title": {
            "standoff": 15
           },
           "zerolinecolor": "white",
           "zerolinewidth": 2
          }
         }
        },
        "title": {
         "text": "Josephson 結響應示例"
        }
       }
      }
     },
     "metadata": {},
     "output_type": "display_data"
    },
    {
     "data": {
      "text/html": [
       "\n",
       "    <script>\n",
       "    // 等待 Plotly 圖表渲染完成\n",
       "    setTimeout(function() {\n",
       "        var plotlyDivs = document.querySelectorAll('.plotly-graph-div');\n",
       "        var latestDiv = plotlyDivs[plotlyDivs.length - 1];\n",
       "\n",
       "        if (latestDiv && window.setupPlotlyChart) {\n",
       "            console.log('為最新的 Plotly 圖表設置觀察器');\n",
       "            window.setupPlotlyChart(latestDiv);\n",
       "        }\n",
       "    }, 500);\n",
       "    </script>\n",
       "    "
      ],
      "text/plain": [
       "<IPython.core.display.HTML object>"
      ]
     },
     "metadata": {},
     "output_type": "display_data"
    }
   ],
   "source": [
    "def create_enhanced_plotly_chart(title=\"示例圖表\", chart_type=\"scatter\"):\n",
    "    \"\"\"\n",
    "    建立具有增強清理功能的 Plotly 圖表\n",
    "    \"\"\"\n",
    "    # 生成示例數據\n",
    "    np.random.seed(42)\n",
    "    x = np.linspace(0, 10, 100)\n",
    "    y1 = np.sin(x) + np.random.normal(0, 0.1, 100)\n",
    "    y2 = np.cos(x) + np.random.normal(0, 0.1, 100)\n",
    "    \n",
    "    if chart_type == \"scatter\":\n",
    "        fig = go.Figure()\n",
    "        fig.add_trace(go.Scatter(x=x, y=y1, mode='lines+markers', name='Sin(x) + noise'))\n",
    "        fig.add_trace(go.Scatter(x=x, y=y2, mode='lines+markers', name='Cos(x) + noise'))\n",
    "        \n",
    "    elif chart_type == \"subplots\":\n",
    "        fig = make_subplots(\n",
    "            rows=2, cols=2,\n",
    "            subplot_titles=('散點圖', '長條圖', '熱力圖', '3D 曲面'),\n",
    "            specs=[[{\"secondary_y\": False}, {\"secondary_y\": False}],\n",
    "                   [{\"secondary_y\": False}, {\"type\": \"surface\"}]]\n",
    "        )\n",
    "        \n",
    "        # 散點圖\n",
    "        fig.add_trace(go.Scatter(x=x, y=y1, name='數據1'), row=1, col=1)\n",
    "        \n",
    "        # 長條圖\n",
    "        categories = ['A', 'B', 'C', 'D', 'E']\n",
    "        values = np.random.rand(5) * 100\n",
    "        fig.add_trace(go.Bar(x=categories, y=values, name='分類數據'), row=1, col=2)\n",
    "        \n",
    "        # 熱力圖\n",
    "        z = np.random.rand(10, 10)\n",
    "        fig.add_trace(go.Heatmap(z=z, name='熱力圖'), row=2, col=1)\n",
    "        \n",
    "        # 3D 曲面\n",
    "        x_3d = np.linspace(-5, 5, 20)\n",
    "        y_3d = np.linspace(-5, 5, 20)\n",
    "        X, Y = np.meshgrid(x_3d, y_3d)\n",
    "        Z = np.sin(np.sqrt(X**2 + Y**2))\n",
    "        fig.add_trace(go.Surface(x=X, y=Y, z=Z, name='3D 曲面'), row=2, col=2)\n",
    "        \n",
    "    fig.update_layout(\n",
    "        title=title,\n",
    "        showlegend=True,\n",
    "        height=600 if chart_type == \"subplots\" else 400\n",
    "    )\n",
    "    \n",
    "    # 顯示圖表並設置觀察器\n",
    "    config = {\n",
    "        'displayModeBar': True,\n",
    "        'displaylogo': False,\n",
    "        'modeBarButtonsToRemove': ['pan2d', 'lasso2d']\n",
    "    }\n",
    "    \n",
    "    # 顯示圖表\n",
    "    fig.show(config=config)\n",
    "    \n",
    "    # 添加自定義清理腳本\n",
    "    cleanup_script = \"\"\"\n",
    "    <script>\n",
    "    // 等待 Plotly 圖表渲染完成\n",
    "    setTimeout(function() {\n",
    "        var plotlyDivs = document.querySelectorAll('.plotly-graph-div');\n",
    "        var latestDiv = plotlyDivs[plotlyDivs.length - 1];\n",
    "        \n",
    "        if (latestDiv && window.setupPlotlyChart) {\n",
    "            console.log('為最新的 Plotly 圖表設置觀察器');\n",
    "            window.setupPlotlyChart(latestDiv);\n",
    "        }\n",
    "    }, 500);\n",
    "    </script>\n",
    "    \"\"\"\n",
    "    \n",
    "    display(HTML(cleanup_script))\n",
    "    \n",
    "    return fig\n",
    "\n",
    "# 示例 1：基本散點圖\n",
    "print(\"🎨 建立基本散點圖\")\n",
    "fig1 = create_enhanced_plotly_chart(\"Josephson 結響應示例\", \"scatter\")"
   ]
  },
  {
   "cell_type": "code",
   "execution_count": 6,
   "id": "403cbda9",
   "metadata": {},
   "outputs": [
    {
     "name": "stdout",
     "output_type": "stream",
     "text": [
      "\n",
      "🎨 建立複雜的子圖佈局\n"
     ]
    },
    {
     "data": {
      "application/vnd.plotly.v1+json": {
       "config": {
        "displayModeBar": true,
        "displaylogo": false,
        "modeBarButtonsToRemove": [
         "pan2d",
         "lasso2d"
        ],
        "plotlyServerURL": "https://plot.ly"
       },
       "data": [
        {
         "name": "數據1",
         "type": "scatter",
         "x": {
          "bdata": "AAAAAAAAAAAxb2dIzNu5PzFvZ0jM28k/ZZNNNtlk0z8xb2dIzNvZP3+lQK1fKeA/ZZNNNtlk4z9LgVq/UqDmPzFvZ0jM2+k/F1100UUX7T9/pUCtXynwP3Icx3Ecx/E/ZZNNNtlk8z9YCtT6lQL1P0uBWr9SoPY/Pvjggw8++D8xb2dIzNv5PyTm7QyJefs/F1100UUX/T8K1PqVArX+P3+lQK1fKQBA+OCDDz74AEByHMdxHMcBQOtXCtT6lQJAZZNNNtlkA0DezpCYtzMEQFgK1PqVAgVA0UUXXXTRBUBLgVq/UqAGQMS8nSExbwdAPvjggw8+CEC3MyTm7QwJQDFvZ0jM2wlAq6qqqqqqCkAk5u0MiXkLQJ4hMW9nSAxAF1100UUXDUCRmLczJOYNQArU+pUCtQ5AhA8++OCDD0B/pUCtXykQQDtDYt7OkBBA+OCDDz74EEC1fqVArV8RQHIcx3EcxxFALrrooosuEkDrVwrU+pUSQKj1KwVq/RJAZZNNNtlkE0AiMW9nSMwTQN7OkJi3MxRAm2yyySabFEBYCtT6lQIVQBWo9SsFahVA0UUXXXTRFUCO4ziO4zgWQEuBWr9SoBZACB988MEHF0DEvJ0hMW8XQIFav1Kg1hdAPvjggw8+GED7lQK1fqUYQLczJObtDBlAdNFFF110GUAxb2dIzNsZQO4MiXk7QxpAq6qqqqqqGkBnSMzbGRIbQCTm7QyJeRtA4YMPPvjgG0CeITFvZ0gcQFq/UqDWrxxAF1100UUXHUDU+pUCtX4dQJGYtzMk5h1ATTbZZJNNHkAK1PqVArUeQMdxHMdxHB9AhA8++OCDH0BArV8pUOsfQH+lQK1fKSBAXXTRRRddIEA7Q2LezpAgQBoS83aGxCBA+OCDDz74IEDXrxSo9SshQLV+pUCtXyFAk0022WSTIUByHMdxHMchQFDrVwrU+iFALrrooosuIkANiXk7Q2IiQOtXCtT6lSJAyiabbLLJIkCo9SsFav0iQIbEvJ0hMSNAZZNNNtlkI0BDYt7OkJgjQCIxb2dIzCNAAAAAAAAAJEA=",
          "dtype": "f8"
         },
         "xaxis": "x",
         "y": {
          "bdata": "/VmHIIhuqT/n8QP0aka2P/AiapCa/NA/lAdMPIvY3D8Fm9drg6nXP7qOoLbQd90/9tDuPCJI5z+29kCeSD7nP0qxjHfqoeU/SGqypIH76j9lFfQEDp7pP7gtiqgUMOs/tOW6IOa87j/xGekTNNLoP/VyiD2iFuo/yA3I17Em7j+UF0xP3LnsPwsXU//pVPA/+HdRv78e7D+inZgE4Y7pP9g8vIaewfA/u5ng2iSN6j87aCMGw6npP0GkD544zeI/NhVM8GFL4z/Hcb1JRtriP1vtl8SbLNg/IoRDmzUr3D8M/LpgOMPPP674svWsPMc/hEQCIywOqj+rF4HsYAbJP49rNXxrire/Tx1EFjj30r+IH8cGG2nKvxYC75gXL+C/VKKJF2oN3b93pMzbWDrov18g6FtZyei/1BDeyr9G5r+tMqRHAa7mv3GezrknYOq/vHo+6Zjm7L/sYfvfYc/uv1T8eg1yy/G/j0IGpejt8L8a2HG8x7Pwv5/6g7n2mOy/QnqwKsKa7r9KQKHqil/yv23Z9o6wJu2/1y/9Mjsy7r/IzGlcT5ztvxYO6BISsOe/fqpSggNJ5L8lRTtgm03iv6xTd4lbc+W/e+m5WpAL4b/CCBkJvj7Yv7o1kxGhNsy/nQxg98cx0b+rL//cI+bBv1k6dajeysC/ZMY89GgZpL+0dvs0A8DQP36wHeTFhNo/dQ/WxBx81z/gffZGlh3iP/7Cw2dL1+I/ZLiylvU34j+t+I9Q9tTnP49cso8nwu0/piPlDFGh6j/Oi8wQjLHwP2sNFLDZV+U/sg4hbyOz8D9Vu93gAsfvPzyeK3NH8+4/e4X5NVMk8D86Qe7FB2PpP8kuQ+U0eu4/uD8+GEBw7z9LZbacb+rwP0oskUgk9Ok/yUM9dNtA5z+mfb8wKjPmP5EIaAYBdeg/FRnOwCMV5D9iXM3nzUndP6bVQu2GP94/A1NMqxmY1T+CiRQQzffUPz5nzNmwXa8/cKJyTKSpX78mZVVgtfy7v99EcQ/JRNS/bmt85x+fzr/HaeRo36nVv4sGp7MrMd2/rzfGcsso4r8=",
          "dtype": "f8"
         },
         "yaxis": "y"
        },
        {
         "name": "分類數據",
         "type": "bar",
         "x": [
          "A",
          "B",
          "C",
          "D",
          "E"
         ],
         "xaxis": "x2",
         "y": {
          "bdata": "ZQqCCjDvVUCS76ZN64RSQAxMDZfmbFFA+CBX7OWPUUAPg7SafPlBQA==",
          "dtype": "f8"
         },
         "yaxis": "y2"
        },
        {
         "name": "熱力圖",
         "type": "heatmap",
         "xaxis": "x3",
         "yaxis": "y3",
         "z": {
          "bdata": "tEBfcjXK0j8I261dSebpPxxbBu1y7Ok/pjBycg6/6z9sjVNARDntPy5PBbzqXOA/wPaC5msM4D/A78ZUoovpP7ykSCiBzOQ/f06WPYN25j+q/DMwInfpP13li3vseuw/JI84cLah1T/qg6EUjQnYP+D6B04zD7g/niewWkWB4j8AdACVBmeiP3SGPaFbzN0/smftR1hd4T/EIrYesVbSP+gNcScb6OI/gDwIIHU7nz+gRHxCTR+jPzyLNmm+Uuo/3vFLDF0N1z+k9jnVhEPAP+S8T383tuA/WA8Whcmj6D/kq3H/BaDLP1E91AG47uM/YNrx2lTZtT/wuHDMBnaqP/U5pW3bAOE/7UzMBuJM4T9urI1k02XkP2ruh+QjPOc/Rc7gIy467z/RvttOiIXgPzQbVKBRq9Q/gWSYUSpy6T+42XfLUFXRP6DM85UbGNw/qAwHqLcVtD/gPpiXi/WZP1zQUgwEzu4/EZi2YVnA6j8eBsGya0XmPzQud/hILNo/JLekHoIuxj/s3xMHIQbEP6IV68n6A9A/USBgzEOT4T85QbtE+N3mP3MLvT9WIOU/nC0b3W/q0T/SGBGiQY7uP8rhoP7ZnOc/CSG+tUS94T9tj+tiN5PjP/64YTi62to/CH0OKaa1zz9s6EShQcjWP3EMe3xGQOg/AG2FV1V6jT+YBPDC77a9PwCrBoaojac/EDLu02fapD/OBOvf7l/rP8eJs3xdhOY/XCUjMN1Y3j84e23YqAu5P8qOdG6idt8/MjvFilxN3j/MTW+XeivGP4q8MrU5xNs/tmxiABqB2T/b7MtDC7XjP/H1i+uvUuQ/IHuyUBYypz/8Vx8wp/nXP7rWu18LB+Q/mRABNrEZ4D+PUihiXWjrP/9gvKoEFOU/wIbaCQnbxD8oXDQeyxCyP+Tpxt+yjuQ/4F8A78clmz9irYturL7iPw0sNLtdFu4/nmu10khq4j90QZasxtfYP5iVgyzRleQ/nFh97gNU3T+2VUhXsXXhP1T2gM56IO4/8juQ1ue12D/SHpu2EsLuPxCl0+ih+Ow/ECViFK8PyT8=",
          "dtype": "f8",
          "shape": "10, 10"
         }
        },
        {
         "name": "3D 曲面",
         "scene": "scene",
         "type": "surface",
         "x": {
          "bdata": "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",
          "dtype": "f8",
          "shape": "20, 20"
         },
         "y": {
          "bdata": "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",
          "dtype": "f8",
          "shape": "20, 20"
         },
         "z": {
          "bdata": "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",
          "dtype": "f8",
          "shape": "20, 20"
         }
        }
       ],
       "layout": {
        "annotations": [
         {
          "font": {
           "size": 16
          },
          "showarrow": false,
          "text": "散點圖",
          "x": 0.225,
          "xanchor": "center",
          "xref": "paper",
          "y": 1,
          "yanchor": "bottom",
          "yref": "paper"
         },
         {
          "font": {
           "size": 16
          },
          "showarrow": false,
          "text": "長條圖",
          "x": 0.775,
          "xanchor": "center",
          "xref": "paper",
          "y": 1,
          "yanchor": "bottom",
          "yref": "paper"
         },
         {
          "font": {
           "size": 16
          },
          "showarrow": false,
          "text": "熱力圖",
          "x": 0.225,
          "xanchor": "center",
          "xref": "paper",
          "y": 0.375,
          "yanchor": "bottom",
          "yref": "paper"
         },
         {
          "font": {
           "size": 16
          },
          "showarrow": false,
          "text": "3D 曲面",
          "x": 0.775,
          "xanchor": "center",
          "xref": "paper",
          "y": 0.375,
          "yanchor": "bottom",
          "yref": "paper"
         }
        ],
        "height": 600,
        "scene": {
         "domain": {
          "x": [
           0.55,
           1
          ],
          "y": [
           0,
           0.375
          ]
         }
        },
        "showlegend": true,
        "template": {
         "data": {
          "bar": [
           {
            "error_x": {
             "color": "#2a3f5f"
            },
            "error_y": {
             "color": "#2a3f5f"
            },
            "marker": {
             "line": {
              "color": "#E5ECF6",
              "width": 0.5
             },
             "pattern": {
              "fillmode": "overlay",
              "size": 10,
              "solidity": 0.2
             }
            },
            "type": "bar"
           }
          ],
          "barpolar": [
           {
            "marker": {
             "line": {
              "color": "#E5ECF6",
              "width": 0.5
             },
             "pattern": {
              "fillmode": "overlay",
              "size": 10,
              "solidity": 0.2
             }
            },
            "type": "barpolar"
           }
          ],
          "carpet": [
           {
            "aaxis": {
             "endlinecolor": "#2a3f5f",
             "gridcolor": "white",
             "linecolor": "white",
             "minorgridcolor": "white",
             "startlinecolor": "#2a3f5f"
            },
            "baxis": {
             "endlinecolor": "#2a3f5f",
             "gridcolor": "white",
             "linecolor": "white",
             "minorgridcolor": "white",
             "startlinecolor": "#2a3f5f"
            },
            "type": "carpet"
           }
          ],
          "choropleth": [
           {
            "colorbar": {
             "outlinewidth": 0,
             "ticks": ""
            },
            "type": "choropleth"
           }
          ],
          "contour": [
           {
            "colorbar": {
             "outlinewidth": 0,
             "ticks": ""
            },
            "colorscale": [
             [
              0,
              "#0d0887"
             ],
             [
              0.1111111111111111,
              "#46039f"
             ],
             [
              0.2222222222222222,
              "#7201a8"
             ],
             [
              0.3333333333333333,
              "#9c179e"
             ],
             [
              0.4444444444444444,
              "#bd3786"
             ],
             [
              0.5555555555555556,
              "#d8576b"
             ],
             [
              0.6666666666666666,
              "#ed7953"
             ],
             [
              0.7777777777777778,
              "#fb9f3a"
             ],
             [
              0.8888888888888888,
              "#fdca26"
             ],
             [
              1,
              "#f0f921"
             ]
            ],
            "type": "contour"
           }
          ],
          "contourcarpet": [
           {
            "colorbar": {
             "outlinewidth": 0,
             "ticks": ""
            },
            "type": "contourcarpet"
           }
          ],
          "heatmap": [
           {
            "colorbar": {
             "outlinewidth": 0,
             "ticks": ""
            },
            "colorscale": [
             [
              0,
              "#0d0887"
             ],
             [
              0.1111111111111111,
              "#46039f"
             ],
             [
              0.2222222222222222,
              "#7201a8"
             ],
             [
              0.3333333333333333,
              "#9c179e"
             ],
             [
              0.4444444444444444,
              "#bd3786"
             ],
             [
              0.5555555555555556,
              "#d8576b"
             ],
             [
              0.6666666666666666,
              "#ed7953"
             ],
             [
              0.7777777777777778,
              "#fb9f3a"
             ],
             [
              0.8888888888888888,
              "#fdca26"
             ],
             [
              1,
              "#f0f921"
             ]
            ],
            "type": "heatmap"
           }
          ],
          "histogram": [
           {
            "marker": {
             "pattern": {
              "fillmode": "overlay",
              "size": 10,
              "solidity": 0.2
             }
            },
            "type": "histogram"
           }
          ],
          "histogram2d": [
           {
            "colorbar": {
             "outlinewidth": 0,
             "ticks": ""
            },
            "colorscale": [
             [
              0,
              "#0d0887"
             ],
             [
              0.1111111111111111,
              "#46039f"
             ],
             [
              0.2222222222222222,
              "#7201a8"
             ],
             [
              0.3333333333333333,
              "#9c179e"
             ],
             [
              0.4444444444444444,
              "#bd3786"
             ],
             [
              0.5555555555555556,
              "#d8576b"
             ],
             [
              0.6666666666666666,
              "#ed7953"
             ],
             [
              0.7777777777777778,
              "#fb9f3a"
             ],
             [
              0.8888888888888888,
              "#fdca26"
             ],
             [
              1,
              "#f0f921"
             ]
            ],
            "type": "histogram2d"
           }
          ],
          "histogram2dcontour": [
           {
            "colorbar": {
             "outlinewidth": 0,
             "ticks": ""
            },
            "colorscale": [
             [
              0,
              "#0d0887"
             ],
             [
              0.1111111111111111,
              "#46039f"
             ],
             [
              0.2222222222222222,
              "#7201a8"
             ],
             [
              0.3333333333333333,
              "#9c179e"
             ],
             [
              0.4444444444444444,
              "#bd3786"
             ],
             [
              0.5555555555555556,
              "#d8576b"
             ],
             [
              0.6666666666666666,
              "#ed7953"
             ],
             [
              0.7777777777777778,
              "#fb9f3a"
             ],
             [
              0.8888888888888888,
              "#fdca26"
             ],
             [
              1,
              "#f0f921"
             ]
            ],
            "type": "histogram2dcontour"
           }
          ],
          "mesh3d": [
           {
            "colorbar": {
             "outlinewidth": 0,
             "ticks": ""
            },
            "type": "mesh3d"
           }
          ],
          "parcoords": [
           {
            "line": {
             "colorbar": {
              "outlinewidth": 0,
              "ticks": ""
             }
            },
            "type": "parcoords"
           }
          ],
          "pie": [
           {
            "automargin": true,
            "type": "pie"
           }
          ],
          "scatter": [
           {
            "fillpattern": {
             "fillmode": "overlay",
             "size": 10,
             "solidity": 0.2
            },
            "type": "scatter"
           }
          ],
          "scatter3d": [
           {
            "line": {
             "colorbar": {
              "outlinewidth": 0,
              "ticks": ""
             }
            },
            "marker": {
             "colorbar": {
              "outlinewidth": 0,
              "ticks": ""
             }
            },
            "type": "scatter3d"
           }
          ],
          "scattercarpet": [
           {
            "marker": {
             "colorbar": {
              "outlinewidth": 0,
              "ticks": ""
             }
            },
            "type": "scattercarpet"
           }
          ],
          "scattergeo": [
           {
            "marker": {
             "colorbar": {
              "outlinewidth": 0,
              "ticks": ""
             }
            },
            "type": "scattergeo"
           }
          ],
          "scattergl": [
           {
            "marker": {
             "colorbar": {
              "outlinewidth": 0,
              "ticks": ""
             }
            },
            "type": "scattergl"
           }
          ],
          "scattermap": [
           {
            "marker": {
             "colorbar": {
              "outlinewidth": 0,
              "ticks": ""
             }
            },
            "type": "scattermap"
           }
          ],
          "scattermapbox": [
           {
            "marker": {
             "colorbar": {
              "outlinewidth": 0,
              "ticks": ""
             }
            },
            "type": "scattermapbox"
           }
          ],
          "scatterpolar": [
           {
            "marker": {
             "colorbar": {
              "outlinewidth": 0,
              "ticks": ""
             }
            },
            "type": "scatterpolar"
           }
          ],
          "scatterpolargl": [
           {
            "marker": {
             "colorbar": {
              "outlinewidth": 0,
              "ticks": ""
             }
            },
            "type": "scatterpolargl"
           }
          ],
          "scatterternary": [
           {
            "marker": {
             "colorbar": {
              "outlinewidth": 0,
              "ticks": ""
             }
            },
            "type": "scatterternary"
           }
          ],
          "surface": [
           {
            "colorbar": {
             "outlinewidth": 0,
             "ticks": ""
            },
            "colorscale": [
             [
              0,
              "#0d0887"
             ],
             [
              0.1111111111111111,
              "#46039f"
             ],
             [
              0.2222222222222222,
              "#7201a8"
             ],
             [
              0.3333333333333333,
              "#9c179e"
             ],
             [
              0.4444444444444444,
              "#bd3786"
             ],
             [
              0.5555555555555556,
              "#d8576b"
             ],
             [
              0.6666666666666666,
              "#ed7953"
             ],
             [
              0.7777777777777778,
              "#fb9f3a"
             ],
             [
              0.8888888888888888,
              "#fdca26"
             ],
             [
              1,
              "#f0f921"
             ]
            ],
            "type": "surface"
           }
          ],
          "table": [
           {
            "cells": {
             "fill": {
              "color": "#EBF0F8"
             },
             "line": {
              "color": "white"
             }
            },
            "header": {
             "fill": {
              "color": "#C8D4E3"
             },
             "line": {
              "color": "white"
             }
            },
            "type": "table"
           }
          ]
         },
         "layout": {
          "annotationdefaults": {
           "arrowcolor": "#2a3f5f",
           "arrowhead": 0,
           "arrowwidth": 1
          },
          "autotypenumbers": "strict",
          "coloraxis": {
           "colorbar": {
            "outlinewidth": 0,
            "ticks": ""
           }
          },
          "colorscale": {
           "diverging": [
            [
             0,
             "#8e0152"
            ],
            [
             0.1,
             "#c51b7d"
            ],
            [
             0.2,
             "#de77ae"
            ],
            [
             0.3,
             "#f1b6da"
            ],
            [
             0.4,
             "#fde0ef"
            ],
            [
             0.5,
             "#f7f7f7"
            ],
            [
             0.6,
             "#e6f5d0"
            ],
            [
             0.7,
             "#b8e186"
            ],
            [
             0.8,
             "#7fbc41"
            ],
            [
             0.9,
             "#4d9221"
            ],
            [
             1,
             "#276419"
            ]
           ],
           "sequential": [
            [
             0,
             "#0d0887"
            ],
            [
             0.1111111111111111,
             "#46039f"
            ],
            [
             0.2222222222222222,
             "#7201a8"
            ],
            [
             0.3333333333333333,
             "#9c179e"
            ],
            [
             0.4444444444444444,
             "#bd3786"
            ],
            [
             0.5555555555555556,
             "#d8576b"
            ],
            [
             0.6666666666666666,
             "#ed7953"
            ],
            [
             0.7777777777777778,
             "#fb9f3a"
            ],
            [
             0.8888888888888888,
             "#fdca26"
            ],
            [
             1,
             "#f0f921"
            ]
           ],
           "sequentialminus": [
            [
             0,
             "#0d0887"
            ],
            [
             0.1111111111111111,
             "#46039f"
            ],
            [
             0.2222222222222222,
             "#7201a8"
            ],
            [
             0.3333333333333333,
             "#9c179e"
            ],
            [
             0.4444444444444444,
             "#bd3786"
            ],
            [
             0.5555555555555556,
             "#d8576b"
            ],
            [
             0.6666666666666666,
             "#ed7953"
            ],
            [
             0.7777777777777778,
             "#fb9f3a"
            ],
            [
             0.8888888888888888,
             "#fdca26"
            ],
            [
             1,
             "#f0f921"
            ]
           ]
          },
          "colorway": [
           "#636efa",
           "#EF553B",
           "#00cc96",
           "#ab63fa",
           "#FFA15A",
           "#19d3f3",
           "#FF6692",
           "#B6E880",
           "#FF97FF",
           "#FECB52"
          ],
          "font": {
           "color": "#2a3f5f"
          },
          "geo": {
           "bgcolor": "white",
           "lakecolor": "white",
           "landcolor": "#E5ECF6",
           "showlakes": true,
           "showland": true,
           "subunitcolor": "white"
          },
          "hoverlabel": {
           "align": "left"
          },
          "hovermode": "closest",
          "mapbox": {
           "style": "light"
          },
          "paper_bgcolor": "white",
          "plot_bgcolor": "#E5ECF6",
          "polar": {
           "angularaxis": {
            "gridcolor": "white",
            "linecolor": "white",
            "ticks": ""
           },
           "bgcolor": "#E5ECF6",
           "radialaxis": {
            "gridcolor": "white",
            "linecolor": "white",
            "ticks": ""
           }
          },
          "scene": {
           "xaxis": {
            "backgroundcolor": "#E5ECF6",
            "gridcolor": "white",
            "gridwidth": 2,
            "linecolor": "white",
            "showbackground": true,
            "ticks": "",
            "zerolinecolor": "white"
           },
           "yaxis": {
            "backgroundcolor": "#E5ECF6",
            "gridcolor": "white",
            "gridwidth": 2,
            "linecolor": "white",
            "showbackground": true,
            "ticks": "",
            "zerolinecolor": "white"
           },
           "zaxis": {
            "backgroundcolor": "#E5ECF6",
            "gridcolor": "white",
            "gridwidth": 2,
            "linecolor": "white",
            "showbackground": true,
            "ticks": "",
            "zerolinecolor": "white"
           }
          },
          "shapedefaults": {
           "line": {
            "color": "#2a3f5f"
           }
          },
          "ternary": {
           "aaxis": {
            "gridcolor": "white",
            "linecolor": "white",
            "ticks": ""
           },
           "baxis": {
            "gridcolor": "white",
            "linecolor": "white",
            "ticks": ""
           },
           "bgcolor": "#E5ECF6",
           "caxis": {
            "gridcolor": "white",
            "linecolor": "white",
            "ticks": ""
           }
          },
          "title": {
           "x": 0.05
          },
          "xaxis": {
           "automargin": true,
           "gridcolor": "white",
           "linecolor": "white",
           "ticks": "",
           "title": {
            "standoff": 15
           },
           "zerolinecolor": "white",
           "zerolinewidth": 2
          },
          "yaxis": {
           "automargin": true,
           "gridcolor": "white",
           "linecolor": "white",
           "ticks": "",
           "title": {
            "standoff": 15
           },
           "zerolinecolor": "white",
           "zerolinewidth": 2
          }
         }
        },
        "title": {
         "text": "多重視覺化面板"
        },
        "xaxis": {
         "anchor": "y",
         "domain": [
          0,
          0.45
         ]
        },
        "xaxis2": {
         "anchor": "y2",
         "domain": [
          0.55,
          1
         ]
        },
        "xaxis3": {
         "anchor": "y3",
         "domain": [
          0,
          0.45
         ]
        },
        "yaxis": {
         "anchor": "x",
         "domain": [
          0.625,
          1
         ]
        },
        "yaxis2": {
         "anchor": "x2",
         "domain": [
          0.625,
          1
         ]
        },
        "yaxis3": {
         "anchor": "x3",
         "domain": [
          0,
          0.375
         ]
        }
       }
      }
     },
     "metadata": {},
     "output_type": "display_data"
    },
    {
     "data": {
      "text/html": [
       "\n",
       "    <script>\n",
       "    // 等待 Plotly 圖表渲染完成\n",
       "    setTimeout(function() {\n",
       "        var plotlyDivs = document.querySelectorAll('.plotly-graph-div');\n",
       "        var latestDiv = plotlyDivs[plotlyDivs.length - 1];\n",
       "\n",
       "        if (latestDiv && window.setupPlotlyChart) {\n",
       "            console.log('為最新的 Plotly 圖表設置觀察器');\n",
       "            window.setupPlotlyChart(latestDiv);\n",
       "        }\n",
       "    }, 500);\n",
       "    </script>\n",
       "    "
      ],
      "text/plain": [
       "<IPython.core.display.HTML object>"
      ]
     },
     "metadata": {},
     "output_type": "display_data"
    }
   ],
   "source": [
    "# 示例 2：複雜的子圖佈局\n",
    "print(\"\\n🎨 建立複雜的子圖佈局\")\n",
    "fig2 = create_enhanced_plotly_chart(\"多重視覺化面板\", \"subplots\")"
   ]
  },
  {
   "cell_type": "code",
   "execution_count": 7,
   "id": "1fd2fd83",
   "metadata": {},
   "outputs": [
    {
     "name": "stdout",
     "output_type": "stream",
     "text": [
      "\n",
      "🔬 建立 Josephson 結專門視覺化\n"
     ]
    },
    {
     "data": {
      "application/vnd.plotly.v1+json": {
       "config": {
        "plotlyServerURL": "https://plot.ly"
       },
       "data": [
        {
         "line": {
          "color": "blue"
         },
         "name": "完整模型",
         "type": "scatter",
         "x": {
          "bdata": "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",
          "dtype": "f8"
         },
         "xaxis": "x",
         "y": {
          "bdata": "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",
          "dtype": "f8"
         },
         "yaxis": "y"
        },
        {
         "line": {
          "color": "red",
          "dash": "dash"
         },
         "name": "簡化模型",
         "type": "scatter",
         "x": {
          "bdata": "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",
          "dtype": "f8"
         },
         "xaxis": "x",
         "y": {
          "bdata": "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",
          "dtype": "f8"
         },
         "yaxis": "y"
        },
        {
         "line": {
          "color": "green"
         },
         "name": "模型差異",
         "type": "scatter",
         "x": {
          "bdata": "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",
          "dtype": "f8"
         },
         "xaxis": "x2",
         "y": {
          "bdata": "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",
          "dtype": "f8"
         },
         "yaxis": "y2"
        },
        {
         "line": {
          "color": "purple"
         },
         "name": "相位項",
         "type": "scatter",
         "x": {
          "bdata": "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",
          "dtype": "f8"
         },
         "xaxis": "x3",
         "y": {
          "bdata": "5PrvZ/MLqEC2T/DfMwyoQIik8Fd0DKhAWvnwz7QMqEArTvFH9QyoQP2i8b81DahAz/fxN3YNqEChTPKvtg2oQHOh8if3DahARPbynzcOqEAWS/MXeA6oQOif84+4DqhAuvTzB/kOqECMSfR/OQ+oQF2e9Pd5D6hAL/P0b7oPqEABSPXn+g+oQNOc9V87EKhApPH113sQqEB2RvZPvBCoQEib9sf8EKhAGvD2Pz0RqEDsRPe3fRGoQL2Z9y++EahAj+73p/4RqEBhQ/gfPxKoQDOY+Jd/EqhABe34D8ASqEDWQfmHABOoQKiW+f9AE6hAeuv5d4ETqEBMQPrvwROoQB2V+mcCFKhA7+n630IUqEDBPvtXgxSoQJOT+8/DFKhAZej7RwQVqEA1Pfy/RBWoQAiS/DeFFahA2ub8r8UVqECsO/0nBhaoQH6Q/Z9GFqhATuX9F4cWqEAgOv6PxxaoQPKO/gcIF6hAxOP+f0gXqECVOP/3iBeoQGeN/2/JF6hAOeL/5wkYqEALNwBgShioQN2LANiKGKhAruAAUMsYqECANQHICxmoQFKKAUBMGahAJN8BuIwZqED2MwIwzRmoQMeIAqgNGqhAmd0CIE4aqEBrMgOYjhqoQD2HAxDPGqhAD9wDiA8bqEDgMAQAUBuoQLKFBHiQG6hAhNoE8NAbqEBWLwVoERyoQCeEBeBRHKhA+dgFWJIcqEDLLQbQ0hyoQJ2CBkgTHahAb9cGwFMdqEBALAc4lB2oQBKBB7DUHahA5NUHKBUeqEC2KgigVR6oQIh/CBiWHqhAWdQIkNYeqEArKQkIFx+oQP19CYBXH6hAz9IJ+JcfqECgJwpw2B+oQHJ8CugYIKhARNEKYFkgqEAWJgvYmSCoQOh6C1DaIKhAuc8LyBohqECLJAxAWyGoQF15DLibIahAL84MMNwhqEABIw2oHCKoQNF3DSBdIqhAo8wNmJ0iqEB1IQ4Q3iKoQEh2DogeI6hAGMsOAF8jqEDqHw94nyOoQLx0D/DfI6hAjskPaCAkqEBgHhDgYCSoQDFzEFihJKhAA8gQ0OEkqEDVHBFIIiWoQKdxEcBiJahAecYROKMlqEBKGxKw4yWoQBxwEigkJqhA7sQSoGQmqEDAGRMYpSaoQJFuE5DlJqhAY8MTCCYnqEA1GBSAZieoQAdtFPimJ6hA2cEUcOcnqECqFhXoJyioQHxrFWBoKKhATsAV2KgoqEAgFRZQ6SioQPJpFsgpKahAw74WQGopqECVExe4qimoQGdoFzDrKahAOb0XqCsqqEALEhggbCqoQNxmGJisKqhArrsYEO0qqECAEBmILSuoQFJlGQBuK6hAI7oZeK4rqED1Dhrw7iuoQMdjGmgvLKhAmbga4G8sqEBrDRtYsCyoQDxiG9DwLKhADrcbSDEtqEDgCxzAcS2oQLJgHDiyLahAhLUcsPItqEBUCh0oMy6oQCdfHaBzLqhA+bMdGLQuqEDLCB6Q9C6oQJtdHgg1L6hAbbIegHUvqEA/Bx/4tS+oQBFcH3D2L6hA47Af6DYwqEC0BSBgdzCoQIZaINi3MKhAWK8gUPgwqEAqBCHIODGoQPxYIUB5MahAza0huLkxqECfAiIw+jGoQHFXIqg6MqhAQ6wiIHsyqEAVASOYuzKoQOZVIxD8MqhAuKojiDwzqECK/yMAfTOoQFxUJHi9M6hALakk8P0zqED//SRoPjSoQNFSJeB+NKhAo6clWL80qEB1/CXQ/zSoQEZRJkhANahAGKYmwIA1qEDq+iY4wTWoQLxPJ7ABNqhAjaQnKEI2qEBf+SeggjaoQDFOKBjDNqhAA6MokAM3qEDV9ygIRDeoQKZMKYCEN6hAeKEp+MQ3qEBK9ilwBTioQBxLKuhFOKhA7p8qYIY4qEC/9CrYxjioQJFJK1AHOahAY54ryEc5qEA18ytAiDmoQAdILLjIOahA2JwsMAk6qECq8SyoSTqoQHxGLSCKOqhATpstmMo6qEAe8C0QCzuoQPBELohLO6hAwpkuAIw7qECU7i54zDuoQGZDL/AMPKhAN5gvaE08qEAJ7S/gjTyoQNtBMFjOPKhArZYw0A49qEB/6zBITz2oQFBAMcCPPahAIpUxONA9qED06TGwED6oQMY+MihRPqhAl5MyoJE+qEBp6DIY0j6oQDs9M5ASP6hADZIzCFM/qEDf5jOAkz+oQLA7NPjTP6hAgpA0cBRAqEBU5TToVECoQCY6NWCVQKhA+I412NVAqEDJ4zVQFkGoQJs4NshWQahAbY02QJdBqEA/4ja410GoQBE3NzAYQqhA4os3qFhCqEC04DcgmUKoQIY1OJjZQqhAWIo4EBpDqEAp3ziIWkOoQPszOQCbQ6hAzYg5eNtDqECf3TnwG0SoQHEyOmhcRKhAQoc64JxEqEAU3DpY3USoQOYwO9AdRahAuIU7SF5FqECK2jvAnkWoQFsvPDjfRahALYQ8sB9GqED/2DwoYEaoQNEtPaCgRqhAoYI9GOFGqEBz1z2QIUeoQEUsPghiR6hAGIE+gKJHqEDq1T744keoQLoqP3AjSKhAjH8/6GNIqEBe1D9gpEioQDApQNjkSKhAAn5AUCVJqEDT0kDIZUmoQKUnQUCmSahAd3xBuOZJqEBJ0UEwJ0qoQBomQqhnSqhA7HpCIKhKqEC+z0KY6EqoQJAkQxApS6hAYnlDiGlLqEAzzkMAqkuoQAUjRHjqS6hA13dE8CpMqECpzERoa0yoQHshReCrTKhATHZFWOxMqEAey0XQLE2oQPAfRkhtTahAwnRGwK1NqECTyUY47k2oQGUeR7AuTqhAN3NHKG9OqEAJyEegr06oQNscSBjwTqhArHFIkDBPqEB+xkgIcU+oQFAbSYCxT6hAInBJ+PFPqED0xElwMlCoQMUZSuhyUKhAl25KYLNQqEBpw0rY81CoQDsYS1A0UahADW1LyHRRqEDewUtAtVGoQLAWTLj1UahAgmtMMDZSqEBUwEyodlKoQCQVTSC3UqhA92lNmPdSqEDJvk0QOFOoQJsTToh4U6hAbWhOALlTqEA9vU54+VOoQA8ST/A5VKhA4WZPaHpUqECzu0/gulSoQIUQUFj7VKhAVmVQ0DtVqEAoulBIfFWoQPoOUcC8VahAzGNROP1VqECduFGwPVaoQG8NUih+VqhAQWJSoL5WqEATt1IY/1aoQOULU5A/V6hAtmBTCIBXqECItVOAwFeoQFoKVPgAWKhALF9UcEFYqED+s1TogVioQM8IVWDCWKhAoV1V2AJZqEBzslVQQ1moQEUHVsiDWahAFlxWQMRZqEDosFa4BFqoQLoFVzBFWqhAjFpXqIVaqEBer1cgxlqoQC8EWJgGW6hAAVlYEEdbqEDTrViIh1uoQKUCWQDIW6hAd1dZeAhcqEBIrFnwSFyoQBoBWmiJXKhA7FVa4MlcqEC+qlpYCl2oQI//WtBKXahAYVRbSItdqEAzqVvAy12oQAX+WzgMXqhA11JcsExeqECop1wojV6oQHr8XKDNXqhATFFdGA5fqEAepl2QTl+oQPD6XQiPX6hAwE9egM9fqECSpF74D2CoQGT5XnBQYKhAN05f6JBgqEAJo19g0WCoQNn3X9gRYahAq0xgUFJhqEB9oWDIkmGoQE/2YEDTYahAIEthuBNiqEDyn2EwVGKoQMT0YaiUYqhAlkliINViqEBonmKYFWOoQDnzYhBWY6hAC0hjiJZjqEDdnGMA12OoQK/xY3gXZKhAgUZk8FdkqEBSm2RomGSoQCTwZODYZKhA9kRlWBllqEDImWXQWWWoQJnuZUiaZahAa0NmwNplqEA9mGY4G2aoQA/tZrBbZqhA4UFnKJxmqECylmeg3GaoQITrZxgdZ6hAVkBokF1nqEAolWgInmeoQPrpaIDeZ6hAyz5p+B5oqECdk2lwX2ioQG/oaeifaKhAQT1qYOBoqEASkmrYIGmoQOTmalBhaahAtjtryKFpqECIkGtA4mmoQFrla7giaqhAKzpsMGNqqED9jmyoo2qoQM/jbCDkaqhAoThtmCRrqEBzjW0QZWuoQEPibYila6hAFTduAOZrqEDoi254JmyoQLrgbvBmbKhAijVvaKdsqEBcim/g52yoQC7fb1gobahAADRw0GhtqEDSiHBIqW2oQKPdcMDpbahAdTJxOCpuqEBHh3Gwam6oQBnccSirbqhA6zByoOtuqEC8hXIYLG+oQI7acpBsb6hAYC9zCK1vqEAyhHOA7W+oQATZc/gtcKhA1S10cG5wqECngnTornCoQHnXdGDvcKhASyx12C9xqEAcgXVQcHGoQO7VdciwcahAwCp2QPFxqECSf3a4MXKoQGTUdjBycqhANSl3qLJyqEAHfncg83KoQNnSd5gzc6hAqyd4EHRzqEB9fHiItHOoQE7ReAD1c6hAICZ5eDV0qEDyennwdXSoQMTPeWi2dKhAlSR64PZ0qEBneXpYN3WoQDnOetB3dahACyN7SLh1qEDdd3vA+HWoQK7Mezg5dqhAgCF8sHl2qEBSdnwounaoQCTLfKD6dqhA9h99GDt3qEDHdH2Qe3eoQJnJfQi8d6hAax5+gPx3qEA9c374PHioQA3IfnB9eKhA3xx/6L14qECxcX9g/nioQIPGf9g+eahAVRuAUH95qEAmcIDIv3moQPjEgEAAeqhAyhmBuEB6qECcboEwgXqoQG7DgajBeqhAPxiCIAJ7qEARbYKYQnuoQOPBghCDe6hAtRaDiMN7qECGa4MABHyoQFjAg3hEfKhAKhWE8IR8qED8aYRoxXyoQM6+hOAFfahAnxOFWEZ9qEBxaIXQhn2oQEO9hUjHfahAFRKGwAd+qEDnZoY4SH6oQLi7hrCIfqhAihCHKMl+qEBcZYegCX+oQC66hxhKf6hAAA+IkIp/qEDRY4gIy3+oQKO4iIALgKhAdQ2J+EuAqEBHYolwjICoQBi3iejMgKhA6guKYA2BqEC8YIrYTYGoQI61ilCOgahAYAqLyM6BqEAxX4tAD4KoQAO0i7hPgqhA1QiMMJCCqECnXYyo0IKoQHmyjCARg6hASgeNmFGDqEAcXI0QkoOoQO6wjYjSg6hAwAWOABOEqECQWo54U4SoQGKvjvCThKhANASPaNSEqEAHWY/gFIWoQNmtj1hVhahAqQKQ0JWFqEB7V5BI1oWoQE2skMAWhqhAHwGROFeGqEDxVZGwl4aoQMKqkSjYhqhAlP+RoBiHqEBmVJIYWYeoQDipkpCZh6hACv6SCNqHqEDbUpOAGoioQK2nk/haiKhAf/yTcJuIqEBRUZTo24ioQCKmlGAciahA9PqU2FyJqEDGT5VQnYmoQA==",
          "dtype": "f8"
         },
         "yaxis": "y3"
        },
        {
         "line": {
          "color": "orange"
         },
         "name": "FFT 功率譜",
         "type": "scatter",
         "x": {
          "bdata": "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",
          "dtype": "f8"
         },
         "xaxis": "x4",
         "y": {
          "bdata": "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",
          "dtype": "f8"
         },
         "yaxis": "y4"
        }
       ],
       "layout": {
        "annotations": [
         {
          "font": {
           "size": 16
          },
          "showarrow": false,
          "text": "完整非線性模型 vs 簡化模型",
          "x": 0.225,
          "xanchor": "center",
          "xref": "paper",
          "y": 1,
          "yanchor": "bottom",
          "yref": "paper"
         },
         {
          "font": {
           "size": 16
          },
          "showarrow": false,
          "text": "電流差異分析",
          "x": 0.775,
          "xanchor": "center",
          "xref": "paper",
          "y": 1,
          "yanchor": "bottom",
          "yref": "paper"
         },
         {
          "font": {
           "size": 16
          },
          "showarrow": false,
          "text": "相位響應",
          "x": 0.225,
          "xanchor": "center",
          "xref": "paper",
          "y": 0.375,
          "yanchor": "bottom",
          "yref": "paper"
         },
         {
          "font": {
           "size": 16
          },
          "showarrow": false,
          "text": "頻譜分析",
          "x": 0.775,
          "xanchor": "center",
          "xref": "paper",
          "y": 0.375,
          "yanchor": "bottom",
          "yref": "paper"
         }
        ],
        "height": 800,
        "showlegend": true,
        "template": {
         "data": {
          "bar": [
           {
            "error_x": {
             "color": "#2a3f5f"
            },
            "error_y": {
             "color": "#2a3f5f"
            },
            "marker": {
             "line": {
              "color": "#E5ECF6",
              "width": 0.5
             },
             "pattern": {
              "fillmode": "overlay",
              "size": 10,
              "solidity": 0.2
             }
            },
            "type": "bar"
           }
          ],
          "barpolar": [
           {
            "marker": {
             "line": {
              "color": "#E5ECF6",
              "width": 0.5
             },
             "pattern": {
              "fillmode": "overlay",
              "size": 10,
              "solidity": 0.2
             }
            },
            "type": "barpolar"
           }
          ],
          "carpet": [
           {
            "aaxis": {
             "endlinecolor": "#2a3f5f",
             "gridcolor": "white",
             "linecolor": "white",
             "minorgridcolor": "white",
             "startlinecolor": "#2a3f5f"
            },
            "baxis": {
             "endlinecolor": "#2a3f5f",
             "gridcolor": "white",
             "linecolor": "white",
             "minorgridcolor": "white",
             "startlinecolor": "#2a3f5f"
            },
            "type": "carpet"
           }
          ],
          "choropleth": [
           {
            "colorbar": {
             "outlinewidth": 0,
             "ticks": ""
            },
            "type": "choropleth"
           }
          ],
          "contour": [
           {
            "colorbar": {
             "outlinewidth": 0,
             "ticks": ""
            },
            "colorscale": [
             [
              0,
              "#0d0887"
             ],
             [
              0.1111111111111111,
              "#46039f"
             ],
             [
              0.2222222222222222,
              "#7201a8"
             ],
             [
              0.3333333333333333,
              "#9c179e"
             ],
             [
              0.4444444444444444,
              "#bd3786"
             ],
             [
              0.5555555555555556,
              "#d8576b"
             ],
             [
              0.6666666666666666,
              "#ed7953"
             ],
             [
              0.7777777777777778,
              "#fb9f3a"
             ],
             [
              0.8888888888888888,
              "#fdca26"
             ],
             [
              1,
              "#f0f921"
             ]
            ],
            "type": "contour"
           }
          ],
          "contourcarpet": [
           {
            "colorbar": {
             "outlinewidth": 0,
             "ticks": ""
            },
            "type": "contourcarpet"
           }
          ],
          "heatmap": [
           {
            "colorbar": {
             "outlinewidth": 0,
             "ticks": ""
            },
            "colorscale": [
             [
              0,
              "#0d0887"
             ],
             [
              0.1111111111111111,
              "#46039f"
             ],
             [
              0.2222222222222222,
              "#7201a8"
             ],
             [
              0.3333333333333333,
              "#9c179e"
             ],
             [
              0.4444444444444444,
              "#bd3786"
             ],
             [
              0.5555555555555556,
              "#d8576b"
             ],
             [
              0.6666666666666666,
              "#ed7953"
             ],
             [
              0.7777777777777778,
              "#fb9f3a"
             ],
             [
              0.8888888888888888,
              "#fdca26"
             ],
             [
              1,
              "#f0f921"
             ]
            ],
            "type": "heatmap"
           }
          ],
          "histogram": [
           {
            "marker": {
             "pattern": {
              "fillmode": "overlay",
              "size": 10,
              "solidity": 0.2
             }
            },
            "type": "histogram"
           }
          ],
          "histogram2d": [
           {
            "colorbar": {
             "outlinewidth": 0,
             "ticks": ""
            },
            "colorscale": [
             [
              0,
              "#0d0887"
             ],
             [
              0.1111111111111111,
              "#46039f"
             ],
             [
              0.2222222222222222,
              "#7201a8"
             ],
             [
              0.3333333333333333,
              "#9c179e"
             ],
             [
              0.4444444444444444,
              "#bd3786"
             ],
             [
              0.5555555555555556,
              "#d8576b"
             ],
             [
              0.6666666666666666,
              "#ed7953"
             ],
             [
              0.7777777777777778,
              "#fb9f3a"
             ],
             [
              0.8888888888888888,
              "#fdca26"
             ],
             [
              1,
              "#f0f921"
             ]
            ],
            "type": "histogram2d"
           }
          ],
          "histogram2dcontour": [
           {
            "colorbar": {
             "outlinewidth": 0,
             "ticks": ""
            },
            "colorscale": [
             [
              0,
              "#0d0887"
             ],
             [
              0.1111111111111111,
              "#46039f"
             ],
             [
              0.2222222222222222,
              "#7201a8"
             ],
             [
              0.3333333333333333,
              "#9c179e"
             ],
             [
              0.4444444444444444,
              "#bd3786"
             ],
             [
              0.5555555555555556,
              "#d8576b"
             ],
             [
              0.6666666666666666,
              "#ed7953"
             ],
             [
              0.7777777777777778,
              "#fb9f3a"
             ],
             [
              0.8888888888888888,
              "#fdca26"
             ],
             [
              1,
              "#f0f921"
             ]
            ],
            "type": "histogram2dcontour"
           }
          ],
          "mesh3d": [
           {
            "colorbar": {
             "outlinewidth": 0,
             "ticks": ""
            },
            "type": "mesh3d"
           }
          ],
          "parcoords": [
           {
            "line": {
             "colorbar": {
              "outlinewidth": 0,
              "ticks": ""
             }
            },
            "type": "parcoords"
           }
          ],
          "pie": [
           {
            "automargin": true,
            "type": "pie"
           }
          ],
          "scatter": [
           {
            "fillpattern": {
             "fillmode": "overlay",
             "size": 10,
             "solidity": 0.2
            },
            "type": "scatter"
           }
          ],
          "scatter3d": [
           {
            "line": {
             "colorbar": {
              "outlinewidth": 0,
              "ticks": ""
             }
            },
            "marker": {
             "colorbar": {
              "outlinewidth": 0,
              "ticks": ""
             }
            },
            "type": "scatter3d"
           }
          ],
          "scattercarpet": [
           {
            "marker": {
             "colorbar": {
              "outlinewidth": 0,
              "ticks": ""
             }
            },
            "type": "scattercarpet"
           }
          ],
          "scattergeo": [
           {
            "marker": {
             "colorbar": {
              "outlinewidth": 0,
              "ticks": ""
             }
            },
            "type": "scattergeo"
           }
          ],
          "scattergl": [
           {
            "marker": {
             "colorbar": {
              "outlinewidth": 0,
              "ticks": ""
             }
            },
            "type": "scattergl"
           }
          ],
          "scattermap": [
           {
            "marker": {
             "colorbar": {
              "outlinewidth": 0,
              "ticks": ""
             }
            },
            "type": "scattermap"
           }
          ],
          "scattermapbox": [
           {
            "marker": {
             "colorbar": {
              "outlinewidth": 0,
              "ticks": ""
             }
            },
            "type": "scattermapbox"
           }
          ],
          "scatterpolar": [
           {
            "marker": {
             "colorbar": {
              "outlinewidth": 0,
              "ticks": ""
             }
            },
            "type": "scatterpolar"
           }
          ],
          "scatterpolargl": [
           {
            "marker": {
             "colorbar": {
              "outlinewidth": 0,
              "ticks": ""
             }
            },
            "type": "scatterpolargl"
           }
          ],
          "scatterternary": [
           {
            "marker": {
             "colorbar": {
              "outlinewidth": 0,
              "ticks": ""
             }
            },
            "type": "scatterternary"
           }
          ],
          "surface": [
           {
            "colorbar": {
             "outlinewidth": 0,
             "ticks": ""
            },
            "colorscale": [
             [
              0,
              "#0d0887"
             ],
             [
              0.1111111111111111,
              "#46039f"
             ],
             [
              0.2222222222222222,
              "#7201a8"
             ],
             [
              0.3333333333333333,
              "#9c179e"
             ],
             [
              0.4444444444444444,
              "#bd3786"
             ],
             [
              0.5555555555555556,
              "#d8576b"
             ],
             [
              0.6666666666666666,
              "#ed7953"
             ],
             [
              0.7777777777777778,
              "#fb9f3a"
             ],
             [
              0.8888888888888888,
              "#fdca26"
             ],
             [
              1,
              "#f0f921"
             ]
            ],
            "type": "surface"
           }
          ],
          "table": [
           {
            "cells": {
             "fill": {
              "color": "#EBF0F8"
             },
             "line": {
              "color": "white"
             }
            },
            "header": {
             "fill": {
              "color": "#C8D4E3"
             },
             "line": {
              "color": "white"
             }
            },
            "type": "table"
           }
          ]
         },
         "layout": {
          "annotationdefaults": {
           "arrowcolor": "#2a3f5f",
           "arrowhead": 0,
           "arrowwidth": 1
          },
          "autotypenumbers": "strict",
          "coloraxis": {
           "colorbar": {
            "outlinewidth": 0,
            "ticks": ""
           }
          },
          "colorscale": {
           "diverging": [
            [
             0,
             "#8e0152"
            ],
            [
             0.1,
             "#c51b7d"
            ],
            [
             0.2,
             "#de77ae"
            ],
            [
             0.3,
             "#f1b6da"
            ],
            [
             0.4,
             "#fde0ef"
            ],
            [
             0.5,
             "#f7f7f7"
            ],
            [
             0.6,
             "#e6f5d0"
            ],
            [
             0.7,
             "#b8e186"
            ],
            [
             0.8,
             "#7fbc41"
            ],
            [
             0.9,
             "#4d9221"
            ],
            [
             1,
             "#276419"
            ]
           ],
           "sequential": [
            [
             0,
             "#0d0887"
            ],
            [
             0.1111111111111111,
             "#46039f"
            ],
            [
             0.2222222222222222,
             "#7201a8"
            ],
            [
             0.3333333333333333,
             "#9c179e"
            ],
            [
             0.4444444444444444,
             "#bd3786"
            ],
            [
             0.5555555555555556,
             "#d8576b"
            ],
            [
             0.6666666666666666,
             "#ed7953"
            ],
            [
             0.7777777777777778,
             "#fb9f3a"
            ],
            [
             0.8888888888888888,
             "#fdca26"
            ],
            [
             1,
             "#f0f921"
            ]
           ],
           "sequentialminus": [
            [
             0,
             "#0d0887"
            ],
            [
             0.1111111111111111,
             "#46039f"
            ],
            [
             0.2222222222222222,
             "#7201a8"
            ],
            [
             0.3333333333333333,
             "#9c179e"
            ],
            [
             0.4444444444444444,
             "#bd3786"
            ],
            [
             0.5555555555555556,
             "#d8576b"
            ],
            [
             0.6666666666666666,
             "#ed7953"
            ],
            [
             0.7777777777777778,
             "#fb9f3a"
            ],
            [
             0.8888888888888888,
             "#fdca26"
            ],
            [
             1,
             "#f0f921"
            ]
           ]
          },
          "colorway": [
           "#636efa",
           "#EF553B",
           "#00cc96",
           "#ab63fa",
           "#FFA15A",
           "#19d3f3",
           "#FF6692",
           "#B6E880",
           "#FF97FF",
           "#FECB52"
          ],
          "font": {
           "color": "#2a3f5f"
          },
          "geo": {
           "bgcolor": "white",
           "lakecolor": "white",
           "landcolor": "#E5ECF6",
           "showlakes": true,
           "showland": true,
           "subunitcolor": "white"
          },
          "hoverlabel": {
           "align": "left"
          },
          "hovermode": "closest",
          "mapbox": {
           "style": "light"
          },
          "paper_bgcolor": "white",
          "plot_bgcolor": "#E5ECF6",
          "polar": {
           "angularaxis": {
            "gridcolor": "white",
            "linecolor": "white",
            "ticks": ""
           },
           "bgcolor": "#E5ECF6",
           "radialaxis": {
            "gridcolor": "white",
            "linecolor": "white",
            "ticks": ""
           }
          },
          "scene": {
           "xaxis": {
            "backgroundcolor": "#E5ECF6",
            "gridcolor": "white",
            "gridwidth": 2,
            "linecolor": "white",
            "showbackground": true,
            "ticks": "",
            "zerolinecolor": "white"
           },
           "yaxis": {
            "backgroundcolor": "#E5ECF6",
            "gridcolor": "white",
            "gridwidth": 2,
            "linecolor": "white",
            "showbackground": true,
            "ticks": "",
            "zerolinecolor": "white"
           },
           "zaxis": {
            "backgroundcolor": "#E5ECF6",
            "gridcolor": "white",
            "gridwidth": 2,
            "linecolor": "white",
            "showbackground": true,
            "ticks": "",
            "zerolinecolor": "white"
           }
          },
          "shapedefaults": {
           "line": {
            "color": "#2a3f5f"
           }
          },
          "ternary": {
           "aaxis": {
            "gridcolor": "white",
            "linecolor": "white",
            "ticks": ""
           },
           "baxis": {
            "gridcolor": "white",
            "linecolor": "white",
            "ticks": ""
           },
           "bgcolor": "#E5ECF6",
           "caxis": {
            "gridcolor": "white",
            "linecolor": "white",
            "ticks": ""
           }
          },
          "title": {
           "x": 0.05
          },
          "xaxis": {
           "automargin": true,
           "gridcolor": "white",
           "linecolor": "white",
           "ticks": "",
           "title": {
            "standoff": 15
           },
           "zerolinecolor": "white",
           "zerolinewidth": 2
          },
          "yaxis": {
           "automargin": true,
           "gridcolor": "white",
           "linecolor": "white",
           "ticks": "",
           "title": {
            "standoff": 15
           },
           "zerolinecolor": "white",
           "zerolinewidth": 2
          }
         }
        },
        "title": {
         "text": "Josephson 結全面分析"
        },
        "xaxis": {
         "anchor": "y",
         "domain": [
          0,
          0.45
         ],
         "title": {
          "text": "外部磁通 (μWb)"
         }
        },
        "xaxis2": {
         "anchor": "y2",
         "domain": [
          0.55,
          1
         ],
         "title": {
          "text": "外部磁通 (μWb)"
         }
        },
        "xaxis3": {
         "anchor": "y3",
         "domain": [
          0,
          0.45
         ],
         "title": {
          "text": "外部磁通 (μWb)"
         }
        },
        "xaxis4": {
         "anchor": "y4",
         "domain": [
          0.55,
          1
         ],
         "title": {
          "text": "頻率"
         }
        },
        "yaxis": {
         "anchor": "x",
         "domain": [
          0.625,
          1
         ],
         "title": {
          "text": "電流 (μA)"
         }
        },
        "yaxis2": {
         "anchor": "x2",
         "domain": [
          0.625,
          1
         ],
         "title": {
          "text": "電流差異 (μA)"
         }
        },
        "yaxis3": {
         "anchor": "x3",
         "domain": [
          0,
          0.375
         ],
         "title": {
          "text": "相位 (rad)"
         }
        },
        "yaxis4": {
         "anchor": "x4",
         "domain": [
          0,
          0.375
         ],
         "title": {
          "text": "FFT 幅度"
         }
        }
       }
      }
     },
     "metadata": {},
     "output_type": "display_data"
    },
    {
     "data": {
      "text/html": [
       "\n",
       "<script>\n",
       "setTimeout(function() {\n",
       "    var plotlyDivs = document.querySelectorAll('.plotly-graph-div');\n",
       "    var latestDiv = plotlyDivs[plotlyDivs.length - 1];\n",
       "\n",
       "    if (latestDiv && window.setupPlotlyChart) {\n",
       "        console.log('為 Josephson 視覺化設置觀察器');\n",
       "        window.setupPlotlyChart(latestDiv);\n",
       "    }\n",
       "}, 500);\n",
       "</script>\n"
      ],
      "text/plain": [
       "<IPython.core.display.HTML object>"
      ]
     },
     "metadata": {},
     "output_type": "display_data"
    },
    {
     "name": "stdout",
     "output_type": "stream",
     "text": [
      "✅ Josephson 結視覺化完成\n"
     ]
    }
   ],
   "source": [
    "# 示例 3：Josephson 結特定的視覺化\n",
    "def create_josephson_visualization():\n",
    "    \"\"\"\n",
    "    建立 Josephson 結的專門視覺化\n",
    "    \"\"\"\n",
    "    # 模擬 Josephson 結數據\n",
    "    phi_ext = np.linspace(-2e-4, 0, 500)\n",
    "    \n",
    "    # 完整模型參數\n",
    "    Ic = 1.0e-6\n",
    "    phi_0 = np.pi / 4\n",
    "    f = 5e4\n",
    "    T = 0.8\n",
    "    k = -0.01\n",
    "    r = 5e-3\n",
    "    C = 10.0e-6\n",
    "    d = -10.0e-3\n",
    "    \n",
    "    # 計算電流響應\n",
    "    phase_term = 2 * np.pi * f * (phi_ext - d) - phi_0\n",
    "    sin_half = np.sin(phase_term / 2)\n",
    "    denominator_arg = np.maximum(1 - T * sin_half**2, 1e-12)\n",
    "    \n",
    "    I_full = (Ic * np.sin(phase_term) / np.sqrt(denominator_arg) + \n",
    "              k * (phi_ext - d)**2 + r * (phi_ext - d) + C)\n",
    "    \n",
    "    I_simple = (Ic * np.sin(phase_term) + \n",
    "                k * (phi_ext - d)**2 + r * (phi_ext - d) + C)\n",
    "    \n",
    "    # 添加雜訊\n",
    "    noise_level = 2e-7\n",
    "    I_full_noisy = I_full + noise_level * np.random.normal(size=len(phi_ext))\n",
    "    I_simple_noisy = I_simple + noise_level * np.random.normal(size=len(phi_ext))\n",
    "    \n",
    "    # 建立比較圖\n",
    "    fig = make_subplots(\n",
    "        rows=2, cols=2,\n",
    "        subplot_titles=(\n",
    "            '完整非線性模型 vs 簡化模型',\n",
    "            '電流差異分析', \n",
    "            '相位響應',\n",
    "            '頻譜分析'\n",
    "        ),\n",
    "        specs=[[{\"secondary_y\": False}, {\"secondary_y\": False}],\n",
    "               [{\"secondary_y\": False}, {\"secondary_y\": False}]]\n",
    "    )\n",
    "    \n",
    "    # 子圖 1：模型比較\n",
    "    fig.add_trace(\n",
    "        go.Scatter(x=phi_ext*1e6, y=I_full_noisy*1e6, \n",
    "                  name='完整模型', line=dict(color='blue')), \n",
    "        row=1, col=1\n",
    "    )\n",
    "    fig.add_trace(\n",
    "        go.Scatter(x=phi_ext*1e6, y=I_simple_noisy*1e6, \n",
    "                  name='簡化模型', line=dict(color='red', dash='dash')), \n",
    "        row=1, col=1\n",
    "    )\n",
    "    \n",
    "    # 子圖 2：差異分析\n",
    "    difference = (I_full - I_simple) * 1e6\n",
    "    fig.add_trace(\n",
    "        go.Scatter(x=phi_ext*1e6, y=difference, \n",
    "                  name='模型差異', line=dict(color='green')), \n",
    "        row=1, col=2\n",
    "    )\n",
    "    \n",
    "    # 子圖 3：相位響應\n",
    "    fig.add_trace(\n",
    "        go.Scatter(x=phi_ext*1e6, y=phase_term, \n",
    "                  name='相位項', line=dict(color='purple')), \n",
    "        row=2, col=1\n",
    "    )\n",
    "    \n",
    "    # 子圖 4：FFT 頻譜\n",
    "    from scipy.fft import fft, fftfreq\n",
    "    \n",
    "    # 計算 FFT\n",
    "    fft_values = np.abs(fft(I_full_noisy))\n",
    "    freqs = fftfreq(len(I_full_noisy), d=(phi_ext[1] - phi_ext[0]))\n",
    "    \n",
    "    # 只顯示正頻率部分\n",
    "    positive_freqs = freqs[:len(freqs)//2]\n",
    "    positive_fft = fft_values[:len(fft_values)//2]\n",
    "    \n",
    "    fig.add_trace(\n",
    "        go.Scatter(x=positive_freqs, y=positive_fft, \n",
    "                  name='FFT 功率譜', line=dict(color='orange')), \n",
    "        row=2, col=2\n",
    "    )\n",
    "    \n",
    "    # 更新佈局\n",
    "    fig.update_xaxes(title_text=\"外部磁通 (μWb)\", row=1, col=1)\n",
    "    fig.update_xaxes(title_text=\"外部磁通 (μWb)\", row=1, col=2)\n",
    "    fig.update_xaxes(title_text=\"外部磁通 (μWb)\", row=2, col=1)\n",
    "    fig.update_xaxes(title_text=\"頻率\", row=2, col=2)\n",
    "    \n",
    "    fig.update_yaxes(title_text=\"電流 (μA)\", row=1, col=1)\n",
    "    fig.update_yaxes(title_text=\"電流差異 (μA)\", row=1, col=2)\n",
    "    fig.update_yaxes(title_text=\"相位 (rad)\", row=2, col=1)\n",
    "    fig.update_yaxes(title_text=\"FFT 幅度\", row=2, col=2)\n",
    "    \n",
    "    fig.update_layout(\n",
    "        title=\"Josephson 結全面分析\",\n",
    "        height=800,\n",
    "        showlegend=True\n",
    "    )\n",
    "    \n",
    "    return fig\n",
    "\n",
    "print(\"\\n🔬 建立 Josephson 結專門視覺化\")\n",
    "fig3 = create_josephson_visualization()\n",
    "fig3.show()\n",
    "\n",
    "# 為這個圖表也設置觀察器\n",
    "cleanup_script = \"\"\"\n",
    "<script>\n",
    "setTimeout(function() {\n",
    "    var plotlyDivs = document.querySelectorAll('.plotly-graph-div');\n",
    "    var latestDiv = plotlyDivs[plotlyDivs.length - 1];\n",
    "    \n",
    "    if (latestDiv && window.setupPlotlyChart) {\n",
    "        console.log('為 Josephson 視覺化設置觀察器');\n",
    "        window.setupPlotlyChart(latestDiv);\n",
    "    }\n",
    "}, 500);\n",
    "</script>\n",
    "\"\"\"\n",
    "\n",
    "display(HTML(cleanup_script))\n",
    "print(\"✅ Josephson 結視覺化完成\")"
   ]
  },
  {
   "cell_type": "markdown",
   "id": "789e0551",
   "metadata": {},
   "source": [
    "## 5. 測試清理功能\n",
    "\n",
    "這個部分提供了一些工具來測試 Plotly 視覺化的清理功能是否正常工作。"
   ]
  },
  {
   "cell_type": "code",
   "execution_count": 8,
   "id": "f96d17f6",
   "metadata": {},
   "outputs": [
    {
     "data": {
      "text/html": [
       "\n",
       "    <script>\n",
       "    function testPlotlyCleanup() {\n",
       "        console.log('開始測試 Plotly 清理功能...');\n",
       "\n",
       "        // 檢查當前頁面的 Plotly 圖表數量\n",
       "        var plotlyDivs = document.querySelectorAll('.plotly-graph-div');\n",
       "        console.log('找到', plotlyDivs.length, '個 Plotly 圖表');\n",
       "\n",
       "        // 檢查觀察器是否設置\n",
       "        console.log('Notebook 觀察器:', window.notebookObserver ? '已設置' : '未設置');\n",
       "        console.log('輸出觀察器:', window.outputObservers ? \n",
       "                   ('已設置 ' + window.outputObservers.length + ' 個') : '未設置');\n",
       "\n",
       "        // 模擬清理第一個圖表（如果存在）\n",
       "        if (plotlyDivs.length > 0) {\n",
       "            var firstDiv = plotlyDivs[0];\n",
       "            console.log('模擬清理第一個圖表...');\n",
       "\n",
       "            if (typeof Plotly !== 'undefined' && Plotly.purge) {\n",
       "                try {\n",
       "                    Plotly.purge(firstDiv);\n",
       "                    console.log('✅ 第一個圖表清理成功');\n",
       "                } catch (e) {\n",
       "                    console.error('❌ 清理失敗:', e);\n",
       "                }\n",
       "            } else {\n",
       "                console.warn('⚠️ Plotly.purge 不可用');\n",
       "            }\n",
       "        }\n",
       "\n",
       "        return {\n",
       "            totalCharts: plotlyDivs.length,\n",
       "            notebookObserver: !!window.notebookObserver,\n",
       "            outputObservers: window.outputObservers ? window.outputObservers.length : 0\n",
       "        };\n",
       "    }\n",
       "\n",
       "    // 執行測試\n",
       "    window.testResults = testPlotlyCleanup();\n",
       "    console.log('測試結果:', window.testResults);\n",
       "    </script>\n",
       "    "
      ],
      "text/plain": [
       "<IPython.core.display.HTML object>"
      ]
     },
     "metadata": {},
     "output_type": "display_data"
    },
    {
     "name": "stdout",
     "output_type": "stream",
     "text": [
      "🧪 Plotly 清理功能測試完成，請查看瀏覽器控制台獲取詳細結果\n"
     ]
    }
   ],
   "source": [
    "def test_cleanup_functionality():\n",
    "    \"\"\"\n",
    "    測試 Plotly 清理功能\n",
    "    \"\"\"\n",
    "    test_script = \"\"\"\n",
    "    <script>\n",
    "    function testPlotlyCleanup() {\n",
    "        console.log('開始測試 Plotly 清理功能...');\n",
    "        \n",
    "        // 檢查當前頁面的 Plotly 圖表數量\n",
    "        var plotlyDivs = document.querySelectorAll('.plotly-graph-div');\n",
    "        console.log('找到', plotlyDivs.length, '個 Plotly 圖表');\n",
    "        \n",
    "        // 檢查觀察器是否設置\n",
    "        console.log('Notebook 觀察器:', window.notebookObserver ? '已設置' : '未設置');\n",
    "        console.log('輸出觀察器:', window.outputObservers ? \n",
    "                   ('已設置 ' + window.outputObservers.length + ' 個') : '未設置');\n",
    "        \n",
    "        // 模擬清理第一個圖表（如果存在）\n",
    "        if (plotlyDivs.length > 0) {\n",
    "            var firstDiv = plotlyDivs[0];\n",
    "            console.log('模擬清理第一個圖表...');\n",
    "            \n",
    "            if (typeof Plotly !== 'undefined' && Plotly.purge) {\n",
    "                try {\n",
    "                    Plotly.purge(firstDiv);\n",
    "                    console.log('✅ 第一個圖表清理成功');\n",
    "                } catch (e) {\n",
    "                    console.error('❌ 清理失敗:', e);\n",
    "                }\n",
    "            } else {\n",
    "                console.warn('⚠️ Plotly.purge 不可用');\n",
    "            }\n",
    "        }\n",
    "        \n",
    "        return {\n",
    "            totalCharts: plotlyDivs.length,\n",
    "            notebookObserver: !!window.notebookObserver,\n",
    "            outputObservers: window.outputObservers ? window.outputObservers.length : 0\n",
    "        };\n",
    "    }\n",
    "    \n",
    "    // 執行測試\n",
    "    window.testResults = testPlotlyCleanup();\n",
    "    console.log('測試結果:', window.testResults);\n",
    "    </script>\n",
    "    \"\"\"\n",
    "    \n",
    "    display(HTML(test_script))\n",
    "    print(\"🧪 Plotly 清理功能測試完成，請查看瀏覽器控制台獲取詳細結果\")\n",
    "\n",
    "# 執行測試\n",
    "test_cleanup_functionality()"
   ]
  },
  {
   "cell_type": "markdown",
   "id": "b8441fd3",
   "metadata": {},
   "source": [
    "## 總結與最佳實踐\n",
    "\n",
    "這個 Notebook 展示了在 Jupyter 環境中管理 Plotly 視覺化的完整解決方案：\n",
    "\n",
    "### 🎯 主要功能\n",
    "1. **自動資源清理**：使用 MutationObserver 自動檢測和清理被移除的 Plotly 圖表\n",
    "2. **容器變化處理**：監控 Notebook 容器變化，確保視覺化穩定性\n",
    "3. **輸出清理管理**：當輸出單元格被清理時自動處理相關資源\n",
    "4. **增強視覺化**：提供具有自動清理功能的 Plotly 圖表建立工具\n",
    "\n",
    "### 💡 最佳實踐\n",
    "1. **總是設置觀察器**：在建立 Plotly 圖表前先設置相應的觀察器\n",
    "2. **及時清理資源**：確保在不需要時清理 Plotly 實例以避免記憶體洩漏\n",
    "3. **錯誤處理**：在清理操作中加入適當的錯誤處理機制\n",
    "4. **測試功能**：定期測試清理功能確保其正常工作\n",
    "\n",
    "### 🔧 使用建議\n",
    "- 在每個新的 Notebook 中都執行觀察器設置代碼\n",
    "- 對於複雜的視覺化，考慮使用自定義清理函數\n",
    "- 在開發環境中啟用控制台日誌以監控清理過程\n",
    "- 定期檢查瀏覽器記憶體使用情況"
   ]
  }
 ],
 "metadata": {
  "kernelspec": {
   "display_name": "py3.11",
   "language": "python",
   "name": "python3"
  },
  "language_info": {
   "codemirror_mode": {
    "name": "ipython",
    "version": 3
   },
   "file_extension": ".py",
   "mimetype": "text/x-python",
   "name": "python",
   "nbconvert_exporter": "python",
   "pygments_lexer": "ipython3",
   "version": "3.11.11"
  }
 },
 "nbformat": 4,
 "nbformat_minor": 5
}
